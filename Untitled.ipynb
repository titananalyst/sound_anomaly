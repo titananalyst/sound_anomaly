{
 "cells": [
  {
   "cell_type": "code",
   "execution_count": 31,
   "id": "72609691",
   "metadata": {},
   "outputs": [],
   "source": [
    "import os\n",
    "import pickle\n",
    "import matplotlib.pyplot as plt  # import plt before librosa, conflict!\n",
    "import librosa\n",
    "import numpy as np\n",
    "from tqdm import tqdm\n",
    "import librosa.display\n",
    "from sklearn.decomposition import PCA\n",
    "\n",
    "PICKLE_DIR = 'D:\\9999_OneDrive_ZHAW\\OneDrive - ZHAW\\BA_ZHAW_RTO\\pickle'\n",
    "root = 'Z:\\\\BA\\\\mimii_baseline\\\\dataset'"
   ]
  },
  {
   "cell_type": "markdown",
   "id": "debb640d",
   "metadata": {},
   "source": [
    "# Functions"
   ]
  },
  {
   "cell_type": "code",
   "execution_count": 32,
   "id": "36bcccfe",
   "metadata": {},
   "outputs": [],
   "source": [
    "def file_names(root, db_levels=None, ids=None, file_types=None, num_files=None):\n",
    "    files = []\n",
    "    \n",
    "    if db_levels is None:\n",
    "        db_levels = ['0dB', '6dB', 'min6dB']\n",
    "    \n",
    "    if ids is None:\n",
    "        ids = ['id_00', 'id_02', 'id_04', 'id_06']\n",
    "        \n",
    "    if file_types is None:\n",
    "        file_types = ['normal', 'abnormal']\n",
    "\n",
    "    combinations = len(db_levels) * len(ids) * len(file_types)\n",
    "    \n",
    "    if num_files is not None:\n",
    "        files_per_combination = num_files // combinations\n",
    "    else:\n",
    "        files_per_combination = None\n",
    "\n",
    "    for db_level in db_levels:\n",
    "        for id_ in ids:\n",
    "            for file_type in file_types:\n",
    "                folder_path = os.path.join(root, db_level, 'pump', id_, file_type)\n",
    "                \n",
    "                for idx, file_name in enumerate(os.listdir(folder_path)):\n",
    "                    if files_per_combination is not None and idx >= files_per_combination:\n",
    "                        break\n",
    "                    \n",
    "                    file_path = os.path.join(folder_path, file_name)\n",
    "                    files.append(file_path)\n",
    "\n",
    "    return files\n",
    "\n",
    "\n",
    "def dataloader(files_list, n_fft=1024, hop_length=512, n_mels=64, frames=5):\n",
    "    dims = n_mels * frames\n",
    "    \n",
    "    for idx in tqdm(range(len(files_list)), desc='Dataloader: '):\n",
    "        signal, sr = file_load(files_list[idx])\n",
    "        features = extract_features(\n",
    "        signal,\n",
    "        sr,\n",
    "        n_fft=n_fft,\n",
    "        hop_length=hop_length,\n",
    "        n_mels=n_mels,\n",
    "        frames=frames,\n",
    "        )\n",
    "        \n",
    "        if idx == 0:\n",
    "            dataset = np.zeros((features.shape[0] * len(files_list), dims), np.float32)\n",
    "        \n",
    "        dataset[\n",
    "            features.shape[0] * idx : features.shape[0] * (idx + 1), :\n",
    "        ] = features\n",
    "        \n",
    "    return dataset\n",
    "        \n",
    "\n",
    "def file_load(wav_name, mono=False, channel=0):\n",
    "    signal, sr = librosa.load(wav_name, mono=False, sr=None)\n",
    "    if signal.ndim <= 1:\n",
    "        sound_file = signal, sr\n",
    "    else:\n",
    "        sound_file = signal[channel, :], sr\n",
    "\n",
    "    return sound_file\n",
    "  \n",
    "    \n",
    "def extract_features(signal, sr, n_fft=1024, hop_length=512, \n",
    "                     n_mels=64, frames=5):\n",
    "    mel_spectrogram = librosa.feature.melspectrogram(\n",
    "        y=signal, sr=sr, n_fft=n_fft, hop_length=hop_length, n_mels=n_mels\n",
    "    )\n",
    "    log_mel_spectrogram = librosa.power_to_db(mel_spectrogram, ref=np.max)\n",
    "    features_vector_size = log_mel_spectrogram.shape[1] - frames + 1\n",
    "    \n",
    "    dims = frames * n_mels\n",
    "\n",
    "    if features_vector_size < 1:\n",
    "        return np.empty((0, dims), np.float32)\n",
    "\n",
    "    features = np.zeros((features_vector_size, dims), np.float32)\n",
    "    for time in range(frames):\n",
    "        features[:, n_mels * time : n_mels * (time + 1)] = log_mel_spectrogram[\n",
    "            :, time : time + features_vector_size\n",
    "        ].T\n",
    "\n",
    "    return features\n",
    "\n",
    "# pickle I/O\n",
    "def save_pickle(filename, save_data, root=PICKLE_DIR):\n",
    "    \"\"\"\n",
    "    picklenize the data.\n",
    "\n",
    "    filename : str\n",
    "        pickle filename\n",
    "    data : free datatype\n",
    "        some data will be picklenized\n",
    "\n",
    "    return : None\n",
    "    \"\"\"\n",
    "    filepath = os.path.join(root, filename) + '.pickle'\n",
    "    with open(filepath, 'wb') as sf:\n",
    "        pickle.dump(save_data, sf)\n",
    "\n",
    "\n",
    "def load_pickle(filename, root=PICKLE_DIR):\n",
    "    \"\"\"\n",
    "    unpicklenize the data.\n",
    "\n",
    "    filename : str\n",
    "        pickle filename\n",
    "\n",
    "    return : data\n",
    "    \"\"\"\n",
    "    filepath = os.path.join(root, filename) + '.pickle'\n",
    "    with open(filepath, 'rb') as lf:\n",
    "        load_data = pickle.load(lf)\n",
    "    return load_data"
   ]
  },
  {
   "cell_type": "code",
   "execution_count": 23,
   "id": "c0ed5e72",
   "metadata": {},
   "outputs": [],
   "source": [
    "# Load all files\n",
    "all_files = file_names(root)\n",
    "\n",
    "# Load files from specific dB levels and IDs\n",
    "specific_files = file_names(root, db_levels=['0dB', '6dB'], ids=['id_00', 'id_04'])\n",
    "\n",
    "# Load normal files only\n",
    "normal_files = file_names(root, file_types=['normal'])\n",
    "\n",
    "# Load a limited number of files from each folder\n",
    "limited_files = file_names(root, num_files=10)\n",
    "\n",
    "# Load evenly distributed files across specified dB levels, IDs, and file types\n",
    "evenly_distributed_files = file_names(root, db_levels=['0dB', '6dB'], ids=['id_00', 'id_04'], num_files=20)"
   ]
  },
  {
   "cell_type": "markdown",
   "id": "d090c1c4",
   "metadata": {},
   "source": [
    "# load data"
   ]
  },
  {
   "cell_type": "code",
   "execution_count": 24,
   "id": "7022ab05",
   "metadata": {},
   "outputs": [
    {
     "name": "stdout",
     "output_type": "stream",
     "text": [
      "1006 143\n",
      "1005 111\n",
      "702 100\n",
      "1036 102\n",
      "3749 456\n",
      "4205\n"
     ]
    }
   ],
   "source": [
    "six_00_norm = file_names(root, db_levels=['6dB'], ids=['id_00'], file_types=['normal'])\n",
    "six_00_abnorm = file_names(root, db_levels=['6dB'], ids=['id_00'], file_types=['abnormal'])\n",
    "\n",
    "six_02_norm = file_names(root, db_levels=['6dB'], ids=['id_02'], file_types=['normal'])\n",
    "six_02_abnorm = file_names(root, db_levels=['6dB'], ids=['id_02'], file_types=['abnormal'])\n",
    "\n",
    "six_04_norm = file_names(root, db_levels=['6dB'], ids=['id_04'], file_types=['normal'])\n",
    "six_04_abnorm = file_names(root, db_levels=['6dB'], ids=['id_04'], file_types=['abnormal'])\n",
    "\n",
    "six_06_norm = file_names(root, db_levels=['6dB'], ids=['id_06'], file_types=['normal'])\n",
    "six_06_abnorm = file_names(root, db_levels=['6dB'], ids=['id_06'], file_types=['abnormal'])\n",
    "\n",
    "six_norm = file_names(root, db_levels=['6dB'], ids=['id_00', 'id_02', 'id_04', 'id_06'], file_types=['normal'])\n",
    "six_abnorm = file_names(root, db_levels=['6dB'], ids=['id_00', 'id_02', 'id_04', 'id_06'], file_types=['abnormal'])\n",
    "\n",
    "six_all = file_names(root, db_levels=['6dB'], ids=['id_00', 'id_02', 'id_04', 'id_06'])\n",
    "\n",
    "print(len(six_00_norm), len(six_00_abnorm))\n",
    "print(len(six_02_norm), len(six_02_abnorm))\n",
    "print(len(six_04_norm), len(six_04_abnorm))\n",
    "print(len(six_06_norm), len(six_06_abnorm))\n",
    "print(len(six_norm), len(six_abnorm))\n",
    "print(len(six_all))"
   ]
  },
  {
   "cell_type": "code",
   "execution_count": 26,
   "id": "e2edaacb",
   "metadata": {},
   "outputs": [
    {
     "name": "stderr",
     "output_type": "stream",
     "text": [
      "Dataloader: 100%|██████████████████████████████████████████████████████████████████| 3749/3749 [04:07<00:00, 15.14it/s]\n",
      "Dataloader: 100%|████████████████████████████████████████████████████████████████████| 456/456 [00:31<00:00, 14.67it/s]\n"
     ]
    }
   ],
   "source": [
    "# takes about 5 minutes\n",
    "n_fft = 1024\n",
    "hop_length = 512\n",
    "n_mels = 64\n",
    "frames = 5\n",
    "\n",
    "dim_1 = 313 - frames + 1\n",
    "dim_2 = n_mels * frames\n",
    "\n",
    "# Load file loacations\n",
    "six_norm = file_names(root, db_levels=['6dB'], ids=['id_00', 'id_02', 'id_04', 'id_06'], file_types=['normal'])\n",
    "six_abnorm = file_names(root, db_levels=['6dB'], ids=['id_00', 'id_02', 'id_04', 'id_06'], file_types=['abnormal'])\n",
    "\n",
    "# Feature labelling\n",
    "six_norm_labels = np.zeros(len(six_norm))\n",
    "six_abnorm_labels = np.ones(len(six_abnorm))\n",
    "\n",
    "# load six_norm_data normal and abnormal\n",
    "six_norm_data = dataloader(\n",
    "    six_norm, n_fft=n_fft, hop_length=hop_length, n_mels=n_mels, frames=frames)\n",
    "six_abnorm_data = dataloader(\n",
    "    six_abnorm, n_fft=n_fft, hop_length=hop_length, n_mels=n_mels, frames=frames)\n"
   ]
  },
  {
   "cell_type": "code",
   "execution_count": 27,
   "id": "06d13c0d",
   "metadata": {},
   "outputs": [
    {
     "name": "stdout",
     "output_type": "stream",
     "text": [
      "[[-20.155865  -20.236065  -16.026154  ... -31.498413  -33.182472\n",
      "  -33.891582 ]\n",
      " [-12.563705  -14.5558815 -10.9439125 ... -28.492458  -29.713936\n",
      "  -27.130947 ]\n",
      " [-14.09877   -16.142235  -10.725767  ... -30.762085  -32.16601\n",
      "  -31.544228 ]\n",
      " ...\n",
      " [-10.915076   -9.411437  -13.841331  ... -45.56337   -46.086052\n",
      "  -49.170116 ]\n",
      " [ -8.277532  -12.288207  -12.049769  ... -44.709644  -47.02185\n",
      "  -46.44263  ]\n",
      " [ -7.603442  -11.675008  -12.90816   ... -47.67592   -48.4262\n",
      "  -47.76262  ]]\n",
      "320\n"
     ]
    }
   ],
   "source": [
    "print(six_norm_data)\n",
    "print(len(six_norm_data[0]))"
   ]
  },
  {
   "cell_type": "code",
   "execution_count": 33,
   "id": "0834bb13",
   "metadata": {
    "scrolled": false
   },
   "outputs": [],
   "source": [
    "save_pickle('six_norm', six_norm)\n",
    "save_pickle('six_abnorm', six_abnorm)\n",
    "save_pickle('six_norm_data', six_norm_data)\n",
    "save_pickle('six_abnorm_data', six_abnorm_data)"
   ]
  },
  {
   "cell_type": "code",
   "execution_count": 18,
   "id": "de9244f1",
   "metadata": {},
   "outputs": [
    {
     "ename": "FileNotFoundError",
     "evalue": "[Errno 2] No such file or directory: '/pickle\\\\six_norm'",
     "output_type": "error",
     "traceback": [
      "\u001b[1;31m---------------------------------------------------------------------------\u001b[0m",
      "\u001b[1;31mFileNotFoundError\u001b[0m                         Traceback (most recent call last)",
      "Cell \u001b[1;32mIn[18], line 1\u001b[0m\n\u001b[1;32m----> 1\u001b[0m six_norm \u001b[38;5;241m=\u001b[39m \u001b[43mload_pickle\u001b[49m\u001b[43m(\u001b[49m\u001b[38;5;124;43m'\u001b[39;49m\u001b[38;5;124;43msix_norm\u001b[39;49m\u001b[38;5;124;43m'\u001b[39;49m\u001b[43m)\u001b[49m\n\u001b[0;32m      2\u001b[0m six_abnorm \u001b[38;5;241m=\u001b[39m load_pickle(\u001b[38;5;124m'\u001b[39m\u001b[38;5;124msix_abnorm\u001b[39m\u001b[38;5;124m'\u001b[39m)\n\u001b[0;32m      3\u001b[0m six_norm_data \u001b[38;5;241m=\u001b[39m load_pickle(\u001b[38;5;124m'\u001b[39m\u001b[38;5;124msix_norm_data\u001b[39m\u001b[38;5;124m'\u001b[39m)\n",
      "Cell \u001b[1;32mIn[17], line 117\u001b[0m, in \u001b[0;36mload_pickle\u001b[1;34m(filename, root)\u001b[0m\n\u001b[0;32m    108\u001b[0m \u001b[38;5;124;03m\"\"\"\u001b[39;00m\n\u001b[0;32m    109\u001b[0m \u001b[38;5;124;03munpicklenize the data.\u001b[39;00m\n\u001b[0;32m    110\u001b[0m \n\u001b[1;32m   (...)\u001b[0m\n\u001b[0;32m    114\u001b[0m \u001b[38;5;124;03mreturn : data\u001b[39;00m\n\u001b[0;32m    115\u001b[0m \u001b[38;5;124;03m\"\"\"\u001b[39;00m\n\u001b[0;32m    116\u001b[0m filepath \u001b[38;5;241m=\u001b[39m os\u001b[38;5;241m.\u001b[39mpath\u001b[38;5;241m.\u001b[39mjoin(root, filename)\n\u001b[1;32m--> 117\u001b[0m \u001b[38;5;28;01mwith\u001b[39;00m \u001b[38;5;28;43mopen\u001b[39;49m\u001b[43m(\u001b[49m\u001b[43mfilepath\u001b[49m\u001b[43m,\u001b[49m\u001b[43m \u001b[49m\u001b[38;5;124;43m'\u001b[39;49m\u001b[38;5;124;43mrb\u001b[39;49m\u001b[38;5;124;43m'\u001b[39;49m\u001b[43m)\u001b[49m \u001b[38;5;28;01mas\u001b[39;00m lf:\n\u001b[0;32m    118\u001b[0m     load_data \u001b[38;5;241m=\u001b[39m pickle\u001b[38;5;241m.\u001b[39mload(lf)\n\u001b[0;32m    119\u001b[0m \u001b[38;5;28;01mreturn\u001b[39;00m load_data\n",
      "File \u001b[1;32mS:\\Programs\\Anaconda3\\lib\\site-packages\\IPython\\core\\interactiveshell.py:282\u001b[0m, in \u001b[0;36m_modified_open\u001b[1;34m(file, *args, **kwargs)\u001b[0m\n\u001b[0;32m    275\u001b[0m \u001b[38;5;28;01mif\u001b[39;00m file \u001b[38;5;129;01min\u001b[39;00m {\u001b[38;5;241m0\u001b[39m, \u001b[38;5;241m1\u001b[39m, \u001b[38;5;241m2\u001b[39m}:\n\u001b[0;32m    276\u001b[0m     \u001b[38;5;28;01mraise\u001b[39;00m \u001b[38;5;167;01mValueError\u001b[39;00m(\n\u001b[0;32m    277\u001b[0m         \u001b[38;5;124mf\u001b[39m\u001b[38;5;124m\"\u001b[39m\u001b[38;5;124mIPython won\u001b[39m\u001b[38;5;124m'\u001b[39m\u001b[38;5;124mt let you open fd=\u001b[39m\u001b[38;5;132;01m{\u001b[39;00mfile\u001b[38;5;132;01m}\u001b[39;00m\u001b[38;5;124m by default \u001b[39m\u001b[38;5;124m\"\u001b[39m\n\u001b[0;32m    278\u001b[0m         \u001b[38;5;124m\"\u001b[39m\u001b[38;5;124mas it is likely to crash IPython. If you know what you are doing, \u001b[39m\u001b[38;5;124m\"\u001b[39m\n\u001b[0;32m    279\u001b[0m         \u001b[38;5;124m\"\u001b[39m\u001b[38;5;124myou can use builtins\u001b[39m\u001b[38;5;124m'\u001b[39m\u001b[38;5;124m open.\u001b[39m\u001b[38;5;124m\"\u001b[39m\n\u001b[0;32m    280\u001b[0m     )\n\u001b[1;32m--> 282\u001b[0m \u001b[38;5;28;01mreturn\u001b[39;00m io_open(file, \u001b[38;5;241m*\u001b[39margs, \u001b[38;5;241m*\u001b[39m\u001b[38;5;241m*\u001b[39mkwargs)\n",
      "\u001b[1;31mFileNotFoundError\u001b[0m: [Errno 2] No such file or directory: '/pickle\\\\six_norm'"
     ]
    }
   ],
   "source": [
    "six_norm = load_pickle('six_norm')\n",
    "six_abnorm = load_pickle('six_abnorm')\n",
    "six_norm_data = load_pickle('six_norm_data')\n",
    "six_abnorm_data = load_pickle('six_abnorm_data')"
   ]
  },
  {
   "cell_type": "markdown",
   "id": "d6c717be",
   "metadata": {},
   "source": [
    "# reshape data to 3D\n",
    "\n",
    "The reshaping step is done to reorganize the data into a 3D format that makes it easier to work with when analyzing audio data. In this case, it seems that dim_1 corresponds to the number of time frames, and dim_2 corresponds to the number of mel frequency bands multiplied by the number of frames.\n",
    "\n",
    "The reshaping is performed as follows:\n",
    "\n",
    "normal_data and abnormal_data are reshaped into 3D arrays with dimensions: (samples, dim_1, dim_2). The samples dimension represents the number of audio files, dim_1 represents the time frames, and dim_2 represents the mel frequency bands multiplied by the number of frames.\n",
    "normal_data_resh and abnormal_data_resh are then concatenated along the first axis (samples) to create a single 3D array called data_resh."
   ]
  },
  {
   "cell_type": "code",
   "execution_count": 4,
   "id": "d3e9f186",
   "metadata": {},
   "outputs": [],
   "source": [
    "def reshape_data(normal_data, abnormal_data, frames, n_mels):\n",
    "    dim_1 = 313 - frames + 1\n",
    "    dim_2 = n_mels * frames\n",
    "\n",
    "    normal_data_resh = normal_data.reshape(int(normal_data.shape[0] / dim_1), dim_1, dim_2)\n",
    "    abnormal_data_resh = abnormal_data.reshape(int(abnormal_data.shape[0] / dim_1), dim_1, dim_2)\n",
    "\n",
    "    return normal_data_resh, abnormal_data_resh\n"
   ]
  },
  {
   "cell_type": "code",
   "execution_count": 5,
   "id": "030a2716",
   "metadata": {},
   "outputs": [],
   "source": [
    "n_mels = 64\n",
    "frames = 5\n",
    "six_norm_resh, six_abnorm_resh = reshape_data(six_norm_data, six_abnorm_data, frames=frames, n_mels=n_mels)\n"
   ]
  },
  {
   "cell_type": "code",
   "execution_count": 6,
   "id": "a37dd5b4",
   "metadata": {},
   "outputs": [
    {
     "name": "stdout",
     "output_type": "stream",
     "text": [
      "[[-20.155865  -20.236065  -16.026154  ... -31.498413  -33.182472\n",
      "  -33.891582 ]\n",
      " [-12.563705  -14.5558815 -10.9439125 ... -28.492458  -29.713936\n",
      "  -27.130947 ]\n",
      " [-14.09877   -16.142235  -10.725767  ... -30.762085  -32.16601\n",
      "  -31.544228 ]\n",
      " ...\n",
      " [-15.199739  -12.418951  -12.241966  ... -31.563438  -31.347225\n",
      "  -31.381538 ]\n",
      " [-12.651146  -12.740814   -5.7199745 ... -29.44743   -29.09539\n",
      "  -28.265282 ]\n",
      " [-10.292263  -13.19899    -8.907797  ... -29.134132  -28.441452\n",
      "  -30.727715 ]]\n",
      "309\n"
     ]
    }
   ],
   "source": [
    "print(six_norm_resh[0])\n",
    "print(len(six_norm_resh[0]))"
   ]
  },
  {
   "cell_type": "markdown",
   "id": "eb8749f1",
   "metadata": {},
   "source": [
    "# Plot"
   ]
  },
  {
   "cell_type": "code",
   "execution_count": 7,
   "id": "a61829ec",
   "metadata": {},
   "outputs": [],
   "source": [
    "import numpy as np\n",
    "import librosa\n",
    "import librosa.display\n",
    "import matplotlib.pyplot as plt\n",
    "import random\n",
    "import os\n",
    "\n",
    "def plot_examples(normal_files, abnormal_files, n_examples=3, hop_length=512, n_fft=1024, random_samples=False):\n",
    "    fig, axs = plt.subplots(n_examples, 2, figsize=(24, 10 * n_examples))\n",
    "\n",
    "    if random_samples:\n",
    "        normal_indices = random.sample(range(len(normal_files)), n_examples)\n",
    "        abnormal_indices = random.sample(range(len(abnormal_files)), n_examples)\n",
    "    else:\n",
    "        normal_indices = list(range(n_examples))\n",
    "        abnormal_indices = list(range(n_examples))\n",
    "\n",
    "    for i in range(n_examples):\n",
    "        # Load and process normal example\n",
    "        file_norm = normal_files[normal_indices[i]]\n",
    "        id_norm = os.path.dirname(file_norm).split(\"\\\\\")[-2]\n",
    "        print()\n",
    "        y_norm, sr_norm = librosa.load(file_norm)\n",
    "        D_norm = librosa.stft(y_norm, hop_length=hop_length, n_fft=n_fft)\n",
    "        S_db_norm = librosa.amplitude_to_db(np.abs(D_norm), ref=np.max)\n",
    "\n",
    "        # Plot normal example\n",
    "        img_norm = librosa.display.specshow(\n",
    "            S_db_norm,\n",
    "            sr=sr_norm,\n",
    "            hop_length=hop_length,\n",
    "            x_axis='time',\n",
    "            y_axis='log',\n",
    "            ax=axs[i, 0]\n",
    "        )\n",
    "        axs[i, 0].set_title(f'Pump: {id_norm} - Normal {i+1} - Index #{normal_indices[i]}')\n",
    "        fig.colorbar(img_norm, ax=axs[i, 0], format=\"%+2.f dB\")\n",
    "\n",
    "        # Load and process abnormal example\n",
    "        file_abnorm = abnormal_files[abnormal_indices[i]]\n",
    "        id_abnorm = os.path.dirname(file_abnorm).split(\"\\\\\")[-2]\n",
    "        y_abnorm, sr_abnorm = librosa.load(file_abnorm)\n",
    "        D_abnorm = librosa.stft(y_abnorm, hop_length=hop_length, n_fft=n_fft)\n",
    "        S_db_abnorm = librosa.amplitude_to_db(np.abs(D_abnorm), ref=np.max)\n",
    "\n",
    "        # Plot abnormal example\n",
    "        img_abnorm = librosa.display.specshow(\n",
    "            S_db_abnorm,\n",
    "            sr=sr_abnorm,\n",
    "            hop_length=hop_length,\n",
    "            x_axis='time',\n",
    "            y_axis='log',\n",
    "            ax=axs[i, 1]\n",
    "        )\n",
    "        axs[i, 1].set_title(f'Pump: {id_abnorm} - Abnormal {i+1} - Index #{abnormal_indices[i]}')\n",
    "        fig.colorbar(img_abnorm, ax=axs[i, 1], format=\"%+2.f dB\")\n",
    "\n",
    "    plt.tight_layout()\n",
    "    plt.show()"
   ]
  },
  {
   "cell_type": "code",
   "execution_count": 8,
   "id": "0cff8b7c",
   "metadata": {},
   "outputs": [],
   "source": [
    "def plot_single_example(file, example_type='normal', hop_length=512, n_fft=1024):\n",
    "    # Extract information from the file path\n",
    "    id_num = os.path.dirname(file).split(\"\\\\\")[-2]\n",
    "    file_index = os.path.basename(file).split('.')[0]\n",
    "\n",
    "    # Load and process the example\n",
    "    y, sr = librosa.load(file)\n",
    "    D = librosa.stft(y, hop_length=hop_length, n_fft=n_fft)\n",
    "    S_db = librosa.amplitude_to_db(np.abs(D), ref=np.max)\n",
    "\n",
    "    # Plot the example\n",
    "    fig, ax = plt.subplots(figsize=(24, 10))\n",
    "    img = librosa.display.specshow(\n",
    "        S_db,\n",
    "        sr=sr,\n",
    "        hop_length=hop_length,\n",
    "        x_axis='time',\n",
    "        y_axis='log',\n",
    "        ax=ax\n",
    "    )\n",
    "    ax.set_title(f'Pump: {id_num} - {example_type.capitalize()} - Index #{file_index}')\n",
    "    fig.colorbar(img, ax=ax, format=\"%+2.f dB\")\n",
    "    plt.tight_layout()\n",
    "    plt.show()\n"
   ]
  },
  {
   "cell_type": "code",
   "execution_count": 9,
   "id": "4d0c7579",
   "metadata": {},
   "outputs": [
    {
     "ename": "AttributeError",
     "evalue": "module 'matplotlib' has no attribute 'axes'",
     "output_type": "error",
     "traceback": [
      "\u001b[1;31m---------------------------------------------------------------------------\u001b[0m",
      "\u001b[1;31mAttributeError\u001b[0m                            Traceback (most recent call last)",
      "Cell \u001b[1;32mIn[9], line 2\u001b[0m\n\u001b[0;32m      1\u001b[0m \u001b[38;5;66;03m# Plot a normal example\u001b[39;00m\n\u001b[1;32m----> 2\u001b[0m \u001b[43mplot_single_example\u001b[49m\u001b[43m(\u001b[49m\u001b[43msix_norm\u001b[49m\u001b[43m[\u001b[49m\u001b[38;5;241;43m0\u001b[39;49m\u001b[43m]\u001b[49m\u001b[43m,\u001b[49m\u001b[43m \u001b[49m\u001b[43mexample_type\u001b[49m\u001b[38;5;241;43m=\u001b[39;49m\u001b[38;5;124;43m'\u001b[39;49m\u001b[38;5;124;43mnormal\u001b[39;49m\u001b[38;5;124;43m'\u001b[39;49m\u001b[43m,\u001b[49m\u001b[43m \u001b[49m\u001b[43mhop_length\u001b[49m\u001b[38;5;241;43m=\u001b[39;49m\u001b[38;5;241;43m512\u001b[39;49m\u001b[43m,\u001b[49m\u001b[43m \u001b[49m\u001b[43mn_fft\u001b[49m\u001b[38;5;241;43m=\u001b[39;49m\u001b[38;5;241;43m1024\u001b[39;49m\u001b[43m)\u001b[49m\n\u001b[0;32m      4\u001b[0m \u001b[38;5;66;03m# Plot an abnormal example\u001b[39;00m\n\u001b[0;32m      5\u001b[0m plot_single_example(six_abnorm[\u001b[38;5;241m0\u001b[39m], example_type\u001b[38;5;241m=\u001b[39m\u001b[38;5;124m'\u001b[39m\u001b[38;5;124mabnormal\u001b[39m\u001b[38;5;124m'\u001b[39m, hop_length\u001b[38;5;241m=\u001b[39m\u001b[38;5;241m512\u001b[39m, n_fft\u001b[38;5;241m=\u001b[39m\u001b[38;5;241m1024\u001b[39m)\n",
      "Cell \u001b[1;32mIn[8], line 12\u001b[0m, in \u001b[0;36mplot_single_example\u001b[1;34m(file, example_type, hop_length, n_fft)\u001b[0m\n\u001b[0;32m      9\u001b[0m S_db \u001b[38;5;241m=\u001b[39m librosa\u001b[38;5;241m.\u001b[39mamplitude_to_db(np\u001b[38;5;241m.\u001b[39mabs(D), ref\u001b[38;5;241m=\u001b[39mnp\u001b[38;5;241m.\u001b[39mmax)\n\u001b[0;32m     11\u001b[0m \u001b[38;5;66;03m# Plot the example\u001b[39;00m\n\u001b[1;32m---> 12\u001b[0m fig, ax \u001b[38;5;241m=\u001b[39m \u001b[43mplt\u001b[49m\u001b[38;5;241;43m.\u001b[39;49m\u001b[43msubplots\u001b[49m\u001b[43m(\u001b[49m\u001b[43mfigsize\u001b[49m\u001b[38;5;241;43m=\u001b[39;49m\u001b[43m(\u001b[49m\u001b[38;5;241;43m24\u001b[39;49m\u001b[43m,\u001b[49m\u001b[43m \u001b[49m\u001b[38;5;241;43m10\u001b[39;49m\u001b[43m)\u001b[49m\u001b[43m)\u001b[49m\n\u001b[0;32m     13\u001b[0m img \u001b[38;5;241m=\u001b[39m librosa\u001b[38;5;241m.\u001b[39mdisplay\u001b[38;5;241m.\u001b[39mspecshow(\n\u001b[0;32m     14\u001b[0m     S_db,\n\u001b[0;32m     15\u001b[0m     sr\u001b[38;5;241m=\u001b[39msr,\n\u001b[1;32m   (...)\u001b[0m\n\u001b[0;32m     19\u001b[0m     ax\u001b[38;5;241m=\u001b[39max\n\u001b[0;32m     20\u001b[0m )\n\u001b[0;32m     21\u001b[0m ax\u001b[38;5;241m.\u001b[39mset_title(\u001b[38;5;124mf\u001b[39m\u001b[38;5;124m'\u001b[39m\u001b[38;5;124mPump: \u001b[39m\u001b[38;5;132;01m{\u001b[39;00mid_num\u001b[38;5;132;01m}\u001b[39;00m\u001b[38;5;124m - \u001b[39m\u001b[38;5;132;01m{\u001b[39;00mexample_type\u001b[38;5;241m.\u001b[39mcapitalize()\u001b[38;5;132;01m}\u001b[39;00m\u001b[38;5;124m - Index #\u001b[39m\u001b[38;5;132;01m{\u001b[39;00mfile_index\u001b[38;5;132;01m}\u001b[39;00m\u001b[38;5;124m'\u001b[39m)\n",
      "File \u001b[1;32mS:\\Programs\\Anaconda3\\lib\\site-packages\\matplotlib\\pyplot.py:1502\u001b[0m, in \u001b[0;36msubplots\u001b[1;34m(nrows, ncols, sharex, sharey, squeeze, width_ratios, height_ratios, subplot_kw, gridspec_kw, **fig_kw)\u001b[0m\n\u001b[0;32m   1358\u001b[0m \u001b[38;5;124;03m\"\"\"\u001b[39;00m\n\u001b[0;32m   1359\u001b[0m \u001b[38;5;124;03mCreate a figure and a set of subplots.\u001b[39;00m\n\u001b[0;32m   1360\u001b[0m \n\u001b[1;32m   (...)\u001b[0m\n\u001b[0;32m   1499\u001b[0m \n\u001b[0;32m   1500\u001b[0m \u001b[38;5;124;03m\"\"\"\u001b[39;00m\n\u001b[0;32m   1501\u001b[0m fig \u001b[38;5;241m=\u001b[39m figure(\u001b[38;5;241m*\u001b[39m\u001b[38;5;241m*\u001b[39mfig_kw)\n\u001b[1;32m-> 1502\u001b[0m axs \u001b[38;5;241m=\u001b[39m \u001b[43mfig\u001b[49m\u001b[38;5;241;43m.\u001b[39;49m\u001b[43msubplots\u001b[49m\u001b[43m(\u001b[49m\u001b[43mnrows\u001b[49m\u001b[38;5;241;43m=\u001b[39;49m\u001b[43mnrows\u001b[49m\u001b[43m,\u001b[49m\u001b[43m \u001b[49m\u001b[43mncols\u001b[49m\u001b[38;5;241;43m=\u001b[39;49m\u001b[43mncols\u001b[49m\u001b[43m,\u001b[49m\u001b[43m \u001b[49m\u001b[43msharex\u001b[49m\u001b[38;5;241;43m=\u001b[39;49m\u001b[43msharex\u001b[49m\u001b[43m,\u001b[49m\u001b[43m \u001b[49m\u001b[43msharey\u001b[49m\u001b[38;5;241;43m=\u001b[39;49m\u001b[43msharey\u001b[49m\u001b[43m,\u001b[49m\n\u001b[0;32m   1503\u001b[0m \u001b[43m                   \u001b[49m\u001b[43msqueeze\u001b[49m\u001b[38;5;241;43m=\u001b[39;49m\u001b[43msqueeze\u001b[49m\u001b[43m,\u001b[49m\u001b[43m \u001b[49m\u001b[43msubplot_kw\u001b[49m\u001b[38;5;241;43m=\u001b[39;49m\u001b[43msubplot_kw\u001b[49m\u001b[43m,\u001b[49m\n\u001b[0;32m   1504\u001b[0m \u001b[43m                   \u001b[49m\u001b[43mgridspec_kw\u001b[49m\u001b[38;5;241;43m=\u001b[39;49m\u001b[43mgridspec_kw\u001b[49m\u001b[43m,\u001b[49m\u001b[43m \u001b[49m\u001b[43mheight_ratios\u001b[49m\u001b[38;5;241;43m=\u001b[39;49m\u001b[43mheight_ratios\u001b[49m\u001b[43m,\u001b[49m\n\u001b[0;32m   1505\u001b[0m \u001b[43m                   \u001b[49m\u001b[43mwidth_ratios\u001b[49m\u001b[38;5;241;43m=\u001b[39;49m\u001b[43mwidth_ratios\u001b[49m\u001b[43m)\u001b[49m\n\u001b[0;32m   1506\u001b[0m \u001b[38;5;28;01mreturn\u001b[39;00m fig, axs\n",
      "File \u001b[1;32mS:\\Programs\\Anaconda3\\lib\\site-packages\\matplotlib\\figure.py:906\u001b[0m, in \u001b[0;36mFigureBase.subplots\u001b[1;34m(self, nrows, ncols, sharex, sharey, squeeze, width_ratios, height_ratios, subplot_kw, gridspec_kw)\u001b[0m\n\u001b[0;32m    903\u001b[0m     gridspec_kw[\u001b[38;5;124m'\u001b[39m\u001b[38;5;124mwidth_ratios\u001b[39m\u001b[38;5;124m'\u001b[39m] \u001b[38;5;241m=\u001b[39m width_ratios\n\u001b[0;32m    905\u001b[0m gs \u001b[38;5;241m=\u001b[39m \u001b[38;5;28mself\u001b[39m\u001b[38;5;241m.\u001b[39madd_gridspec(nrows, ncols, figure\u001b[38;5;241m=\u001b[39m\u001b[38;5;28mself\u001b[39m, \u001b[38;5;241m*\u001b[39m\u001b[38;5;241m*\u001b[39mgridspec_kw)\n\u001b[1;32m--> 906\u001b[0m axs \u001b[38;5;241m=\u001b[39m \u001b[43mgs\u001b[49m\u001b[38;5;241;43m.\u001b[39;49m\u001b[43msubplots\u001b[49m\u001b[43m(\u001b[49m\u001b[43msharex\u001b[49m\u001b[38;5;241;43m=\u001b[39;49m\u001b[43msharex\u001b[49m\u001b[43m,\u001b[49m\u001b[43m \u001b[49m\u001b[43msharey\u001b[49m\u001b[38;5;241;43m=\u001b[39;49m\u001b[43msharey\u001b[49m\u001b[43m,\u001b[49m\u001b[43m \u001b[49m\u001b[43msqueeze\u001b[49m\u001b[38;5;241;43m=\u001b[39;49m\u001b[43msqueeze\u001b[49m\u001b[43m,\u001b[49m\n\u001b[0;32m    907\u001b[0m \u001b[43m                  \u001b[49m\u001b[43msubplot_kw\u001b[49m\u001b[38;5;241;43m=\u001b[39;49m\u001b[43msubplot_kw\u001b[49m\u001b[43m)\u001b[49m\n\u001b[0;32m    908\u001b[0m \u001b[38;5;28;01mreturn\u001b[39;00m axs\n",
      "File \u001b[1;32mS:\\Programs\\Anaconda3\\lib\\site-packages\\matplotlib\\gridspec.py:299\u001b[0m, in \u001b[0;36mGridSpecBase.subplots\u001b[1;34m(self, sharex, sharey, squeeze, subplot_kw)\u001b[0m\n\u001b[0;32m    297\u001b[0m         subplot_kw[\u001b[38;5;124m\"\u001b[39m\u001b[38;5;124msharex\u001b[39m\u001b[38;5;124m\"\u001b[39m] \u001b[38;5;241m=\u001b[39m shared_with[sharex]\n\u001b[0;32m    298\u001b[0m         subplot_kw[\u001b[38;5;124m\"\u001b[39m\u001b[38;5;124msharey\u001b[39m\u001b[38;5;124m\"\u001b[39m] \u001b[38;5;241m=\u001b[39m shared_with[sharey]\n\u001b[1;32m--> 299\u001b[0m         axarr[row, col] \u001b[38;5;241m=\u001b[39m figure\u001b[38;5;241m.\u001b[39madd_subplot(\n\u001b[0;32m    300\u001b[0m             \u001b[38;5;28mself\u001b[39m[row, col], \u001b[38;5;241m*\u001b[39m\u001b[38;5;241m*\u001b[39msubplot_kw)\n\u001b[0;32m    302\u001b[0m \u001b[38;5;66;03m# turn off redundant tick labeling\u001b[39;00m\n\u001b[0;32m    303\u001b[0m \u001b[38;5;28;01mif\u001b[39;00m sharex \u001b[38;5;129;01min\u001b[39;00m [\u001b[38;5;124m\"\u001b[39m\u001b[38;5;124mcol\u001b[39m\u001b[38;5;124m\"\u001b[39m, \u001b[38;5;124m\"\u001b[39m\u001b[38;5;124mall\u001b[39m\u001b[38;5;124m\"\u001b[39m]:\n",
      "File \u001b[1;32mS:\\Programs\\Anaconda3\\lib\\site-packages\\matplotlib\\figure.py:739\u001b[0m, in \u001b[0;36mFigureBase.add_subplot\u001b[1;34m(self, *args, **kwargs)\u001b[0m\n\u001b[0;32m    733\u001b[0m \u001b[38;5;28;01mif\u001b[39;00m \u001b[38;5;124m'\u001b[39m\u001b[38;5;124mfigure\u001b[39m\u001b[38;5;124m'\u001b[39m \u001b[38;5;129;01min\u001b[39;00m kwargs:\n\u001b[0;32m    734\u001b[0m     \u001b[38;5;66;03m# Axes itself allows for a 'figure' kwarg, but since we want to\u001b[39;00m\n\u001b[0;32m    735\u001b[0m     \u001b[38;5;66;03m# bind the created Axes to self, it is not allowed here.\u001b[39;00m\n\u001b[0;32m    736\u001b[0m     \u001b[38;5;28;01mraise\u001b[39;00m _api\u001b[38;5;241m.\u001b[39mkwarg_error(\u001b[38;5;124m\"\u001b[39m\u001b[38;5;124madd_subplot\u001b[39m\u001b[38;5;124m\"\u001b[39m, \u001b[38;5;124m\"\u001b[39m\u001b[38;5;124mfigure\u001b[39m\u001b[38;5;124m\"\u001b[39m)\n\u001b[0;32m    738\u001b[0m \u001b[38;5;28;01mif\u001b[39;00m (\u001b[38;5;28mlen\u001b[39m(args) \u001b[38;5;241m==\u001b[39m \u001b[38;5;241m1\u001b[39m\n\u001b[1;32m--> 739\u001b[0m         \u001b[38;5;129;01mand\u001b[39;00m \u001b[38;5;28misinstance\u001b[39m(args[\u001b[38;5;241m0\u001b[39m], \u001b[43mmpl\u001b[49m\u001b[38;5;241;43m.\u001b[39;49m\u001b[43maxes\u001b[49m\u001b[38;5;241m.\u001b[39m_base\u001b[38;5;241m.\u001b[39m_AxesBase)\n\u001b[0;32m    740\u001b[0m         \u001b[38;5;129;01mand\u001b[39;00m args[\u001b[38;5;241m0\u001b[39m]\u001b[38;5;241m.\u001b[39mget_subplotspec()):\n\u001b[0;32m    741\u001b[0m     ax \u001b[38;5;241m=\u001b[39m args[\u001b[38;5;241m0\u001b[39m]\n\u001b[0;32m    742\u001b[0m     key \u001b[38;5;241m=\u001b[39m ax\u001b[38;5;241m.\u001b[39m_projection_init\n",
      "File \u001b[1;32mS:\\Programs\\Anaconda3\\lib\\site-packages\\matplotlib\\_api\\__init__.py:226\u001b[0m, in \u001b[0;36mcaching_module_getattr.<locals>.__getattr__\u001b[1;34m(name)\u001b[0m\n\u001b[0;32m    224\u001b[0m \u001b[38;5;28;01mif\u001b[39;00m name \u001b[38;5;129;01min\u001b[39;00m props:\n\u001b[0;32m    225\u001b[0m     \u001b[38;5;28;01mreturn\u001b[39;00m props[name]\u001b[38;5;241m.\u001b[39m\u001b[38;5;21m__get__\u001b[39m(instance)\n\u001b[1;32m--> 226\u001b[0m \u001b[38;5;28;01mraise\u001b[39;00m \u001b[38;5;167;01mAttributeError\u001b[39;00m(\n\u001b[0;32m    227\u001b[0m     \u001b[38;5;124mf\u001b[39m\u001b[38;5;124m\"\u001b[39m\u001b[38;5;124mmodule \u001b[39m\u001b[38;5;132;01m{\u001b[39;00m\u001b[38;5;28mcls\u001b[39m\u001b[38;5;241m.\u001b[39m\u001b[38;5;18m__module__\u001b[39m\u001b[38;5;132;01m!r}\u001b[39;00m\u001b[38;5;124m has no attribute \u001b[39m\u001b[38;5;132;01m{\u001b[39;00mname\u001b[38;5;132;01m!r}\u001b[39;00m\u001b[38;5;124m\"\u001b[39m)\n",
      "\u001b[1;31mAttributeError\u001b[0m: module 'matplotlib' has no attribute 'axes'"
     ]
    },
    {
     "data": {
      "text/plain": [
       "<Figure size 2400x1000 with 0 Axes>"
      ]
     },
     "metadata": {},
     "output_type": "display_data"
    },
    {
     "ename": "AttributeError",
     "evalue": "module 'matplotlib' has no attribute 'pyplot'",
     "output_type": "error",
     "traceback": [
      "\u001b[1;31m---------------------------------------------------------------------------\u001b[0m",
      "\u001b[1;31mAttributeError\u001b[0m                            Traceback (most recent call last)",
      "File \u001b[1;32mS:\\Programs\\Anaconda3\\lib\\site-packages\\matplotlib_inline\\backend_inline.py:99\u001b[0m, in \u001b[0;36mshow\u001b[1;34m(close, block)\u001b[0m\n\u001b[0;32m     96\u001b[0m \u001b[38;5;66;03m# only call close('all') if any to close\u001b[39;00m\n\u001b[0;32m     97\u001b[0m \u001b[38;5;66;03m# close triggers gc.collect, which can be slow\u001b[39;00m\n\u001b[0;32m     98\u001b[0m \u001b[38;5;28;01mif\u001b[39;00m close \u001b[38;5;129;01mand\u001b[39;00m Gcf\u001b[38;5;241m.\u001b[39mget_all_fig_managers():\n\u001b[1;32m---> 99\u001b[0m     \u001b[43mmatplotlib\u001b[49m\u001b[38;5;241;43m.\u001b[39;49m\u001b[43mpyplot\u001b[49m\u001b[38;5;241m.\u001b[39mclose(\u001b[38;5;124m'\u001b[39m\u001b[38;5;124mall\u001b[39m\u001b[38;5;124m'\u001b[39m)\n",
      "File \u001b[1;32mS:\\Programs\\Anaconda3\\lib\\site-packages\\matplotlib\\_api\\__init__.py:226\u001b[0m, in \u001b[0;36mcaching_module_getattr.<locals>.__getattr__\u001b[1;34m(name)\u001b[0m\n\u001b[0;32m    224\u001b[0m \u001b[38;5;28;01mif\u001b[39;00m name \u001b[38;5;129;01min\u001b[39;00m props:\n\u001b[0;32m    225\u001b[0m     \u001b[38;5;28;01mreturn\u001b[39;00m props[name]\u001b[38;5;241m.\u001b[39m\u001b[38;5;21m__get__\u001b[39m(instance)\n\u001b[1;32m--> 226\u001b[0m \u001b[38;5;28;01mraise\u001b[39;00m \u001b[38;5;167;01mAttributeError\u001b[39;00m(\n\u001b[0;32m    227\u001b[0m     \u001b[38;5;124mf\u001b[39m\u001b[38;5;124m\"\u001b[39m\u001b[38;5;124mmodule \u001b[39m\u001b[38;5;132;01m{\u001b[39;00m\u001b[38;5;28mcls\u001b[39m\u001b[38;5;241m.\u001b[39m\u001b[38;5;18m__module__\u001b[39m\u001b[38;5;132;01m!r}\u001b[39;00m\u001b[38;5;124m has no attribute \u001b[39m\u001b[38;5;132;01m{\u001b[39;00mname\u001b[38;5;132;01m!r}\u001b[39;00m\u001b[38;5;124m\"\u001b[39m)\n",
      "\u001b[1;31mAttributeError\u001b[0m: module 'matplotlib' has no attribute 'pyplot'"
     ]
    }
   ],
   "source": [
    "# Plot a normal example\n",
    "plot_single_example(six_norm[0], example_type='normal', hop_length=512, n_fft=1024)\n",
    "\n",
    "# Plot an abnormal example\n",
    "plot_single_example(six_abnorm[0], example_type='abnormal', hop_length=512, n_fft=1024)\n"
   ]
  },
  {
   "cell_type": "code",
   "execution_count": null,
   "id": "55211544",
   "metadata": {},
   "outputs": [],
   "source": [
    "# Call the function with random_samples=True (default) for random samples\n",
    "# plot_examples(six_norm, six_abnorm, n_examples=3, hop_length=512, n_fft=1024)\n",
    "\n",
    "# Call the function with random_samples=False for the first n_examples samples\n",
    "plot_examples(six_norm, six_abnorm, n_examples=3, hop_length=512, n_fft=1024, random_samples=True)"
   ]
  },
  {
   "cell_type": "code",
   "execution_count": null,
   "id": "1c15bb07",
   "metadata": {
    "scrolled": false
   },
   "outputs": [],
   "source": [
    "plot_examples(six_00_norm, six_00_abnorm, n_examples=3, hop_length=512, n_fft=1024, random_samples=False)\n",
    "\n",
    "plot_examples(six_00_norm, six_00_abnorm, n_examples=3, hop_length=512, n_fft=1024, random_samples=True)\n"
   ]
  },
  {
   "cell_type": "code",
   "execution_count": null,
   "id": "b07957a6",
   "metadata": {
    "scrolled": false
   },
   "outputs": [],
   "source": [
    "plot_examples(six_02_norm, six_02_abnorm, n_examples=3, hop_length=512, n_fft=1024, random_samples=False)\n",
    "\n",
    "plot_examples(six_02_norm, six_02_abnorm, n_examples=3, hop_length=512, n_fft=1024, random_samples=True)\n"
   ]
  },
  {
   "cell_type": "markdown",
   "id": "e3f769d1",
   "metadata": {},
   "source": [
    "# Normalization"
   ]
  },
  {
   "cell_type": "code",
   "execution_count": null,
   "id": "1c222992",
   "metadata": {},
   "outputs": [],
   "source": [
    "def normalize_data(x, lb, ub, max_v=1.0, min_v=-1.0):\n",
    "    '''\n",
    "    Max-Min normalize of 'x' with max value 'max_v' min value 'min_v'\n",
    "    '''\n",
    "\n",
    "    # Set-up\n",
    "    if len(ub)==0:\n",
    "        ub = x.max(0) # OPTION 1\n",
    "        # applied to the first dimension (0) columns of the data\n",
    "        #ub = np.percentile(x, 99.9, axis=0, keepdims=True) # OPTION 2:\n",
    "        \n",
    "    if len(lb)==0:\n",
    "        lb = x.min(0) \n",
    "        #lb = np.percentile(x, 0.1, axis=0, keepdims=True)\n",
    "    \n",
    "    ub.shape = (1,-1)\n",
    "    lb.shape = (1,-1)           \n",
    "    max_min = max_v - min_v\n",
    "    delta = ub-lb\n",
    "\n",
    "    # Compute\n",
    "    x_n = max_min * (x - lb) / delta + min_v\n",
    "    if 0 in delta:\n",
    "        idx = np.ravel(delta == 0)\n",
    "        x_n[:,idx] = x[:,idx] - lb[:, idx]\n",
    "\n",
    "    return x_n, lb, ub "
   ]
  },
  {
   "cell_type": "code",
   "execution_count": null,
   "id": "632e00f5",
   "metadata": {
    "scrolled": true
   },
   "outputs": [],
   "source": [
    "six_norm_data_n, lb, ub = normalize_data(six_norm_data, [], [], max_v=1.0, min_v=0.0)\n",
    "print(six_norm_data_n)\n",
    "\n",
    "six_abnorm_data_n, lb, ub = normalize_data(six_abnorm_data, [], [], max_v=1.0, min_v=0.0)\n",
    "print(six_abnorm_data_n)\n"
   ]
  },
  {
   "cell_type": "markdown",
   "id": "858b686f",
   "metadata": {},
   "source": [
    "# PCA"
   ]
  },
  {
   "cell_type": "code",
   "execution_count": null,
   "id": "db4b7eb0",
   "metadata": {},
   "outputs": [],
   "source": [
    "pca = PCA(n_components=2)\n",
    "pca_result = pca.fit_transform(six_norm_data_n)\n"
   ]
  },
  {
   "cell_type": "markdown",
   "id": "0b5bb595",
   "metadata": {},
   "source": [
    "## PCA of 6dB - normal - all machines "
   ]
  },
  {
   "cell_type": "code",
   "execution_count": null,
   "id": "b1caac07",
   "metadata": {},
   "outputs": [],
   "source": [
    "machine_ids = [os.path.dirname(file).split(\"\\\\\")[-2] for file in six_norm]\n",
    "\n",
    "colors = {\"id_00\": \"red\", \"id_02\": \"blue\", \"id_04\": \"green\", \"id_06\": \"purple\"}\n",
    "\n",
    "fig, ax = plt.subplots()\n",
    "for i, machine_id in enumerate(machine_ids):\n",
    "    ax.scatter(pca_result[i, 0], pca_result[i, 1], color=colors[machine_id], label=machine_id)\n",
    "\n",
    "# Create a legend with unique labels\n",
    "handles, labels = ax.get_legend_handles_labels()\n",
    "unique_labels = dict(zip(labels, handles))\n",
    "ax.legend(unique_labels.values(), unique_labels.keys())\n",
    "\n",
    "ax.set_title(f'6dB - PCA all machines')\n",
    "ax.set_xlabel(\"PC 1\")\n",
    "ax.set_ylabel(\"PC 2\")\n",
    "plt.show()\n"
   ]
  },
  {
   "cell_type": "markdown",
   "id": "3280e2b5",
   "metadata": {},
   "source": [
    "## PCA of 6dB - normal and abnormal - seperate machines"
   ]
  },
  {
   "cell_type": "code",
   "execution_count": null,
   "id": "281f588e",
   "metadata": {
    "scrolled": false
   },
   "outputs": [],
   "source": [
    "# Perform PCA on normalized data\n",
    "pca = PCA(n_components=2)\n",
    "pca_norm_result = pca.fit_transform(six_norm_data_n)\n",
    "pca_abnorm_result = pca.fit_transform(six_norm_data_n)\n",
    "\n",
    "# Create scatter plots for each machine ID with normal and abnormal data\n",
    "machine_ids = ['id_00', 'id_02', 'id_04', 'id_06']\n",
    "colors = {\"normal\": \"red\", \"abnormal\": \"blue\"}\n",
    "\n",
    "fig, axs = plt.subplots(2, 2, figsize=(10, 10))\n",
    "\n",
    "for idx, machine_id in enumerate(machine_ids):\n",
    "    ax = axs[idx // 2, idx % 2]\n",
    "\n",
    "    # Filter normal and abnormal data by machine ID\n",
    "    norm_indices = [i for i, file in enumerate(six_norm) if machine_id in file]\n",
    "    abnorm_indices = [i for i, file in enumerate(six_abnorm) if machine_id in file]\n",
    "\n",
    "    # Plot normal data\n",
    "    ax.scatter(pca_norm_result[norm_indices, 0], pca_norm_result[norm_indices, 1], color=colors[\"normal\"], label=\"normal\")\n",
    "    # Plot abnormal data\n",
    "    ax.scatter(pca_abnorm_result[abnorm_indices, 0], pca_abnorm_result[abnorm_indices, 1], color=colors[\"abnormal\"], label=\"abnormal\")\n",
    "\n",
    "    ax.legend()\n",
    "    ax.set_title(f'6dB - PCA machine {machine_id}')\n",
    "    ax.set_xlabel(\"PC 1\")\n",
    "    ax.set_ylabel(\"PC 2\")\n",
    "\n",
    "plt.tight_layout()\n",
    "plt.show()\n"
   ]
  },
  {
   "cell_type": "markdown",
   "id": "d4265717",
   "metadata": {},
   "source": [
    "# SNR\n",
    "\n",
    "Found the formula ond wiki:\n",
    "https://en.wikipedia.org/wiki/Signal-to-noise_ratio\n"
   ]
  },
  {
   "cell_type": "code",
   "execution_count": null,
   "id": "b681d1fc",
   "metadata": {
    "scrolled": true
   },
   "outputs": [],
   "source": [
    "def snr(signal, noise):\n",
    "    signal_power = np.mean(signal ** 2)\n",
    "    noise_power = np.mean(noise ** 2)\n",
    "    return 10 * np.log10(signal_power / noise_power)\n",
    "\n",
    "root = 'Z:/BA/mimii_baseline/dataset/'\n",
    "machine_ids = ['id_00', 'id_02', 'id_04', 'id_06']\n",
    "db_levels = ['6dB', '0dB', 'min6dB']\n",
    "\n",
    "snr_results = {}\n",
    "\n",
    "for db_level in db_levels:\n",
    "    snr_results[db_level] = {}\n",
    "    \n",
    "    for machine_id in machine_ids:\n",
    "        normal_files = file_names(root, db_levels=[db_level], ids=[machine_id], file_types=['normal'])\n",
    "        abnormal_files = file_names(root, db_levels=[db_level], ids=[machine_id], file_types=['abnormal'])\n",
    "        \n",
    "        snr_values = []\n",
    "        \n",
    "        for normal_file, abnormal_file in zip(normal_files, abnormal_files):\n",
    "            normal_signal, sr = librosa.load(normal_file)\n",
    "            abnormal_signal, _ = librosa.load(abnormal_file)\n",
    "            noise = abnormal_signal - normal_signal\n",
    "\n",
    "            snr_value = snr(normal_signal, noise)\n",
    "            snr_values.append(snr_value)\n",
    "\n",
    "        snr_results[db_level][machine_id] = np.mean(snr_values)\n",
    "\n",
    "print(snr_results)\n"
   ]
  },
  {
   "cell_type": "code",
   "execution_count": null,
   "id": "e85e24ca",
   "metadata": {},
   "outputs": [],
   "source": [
    "# Prepare data\n",
    "dB_levels = list(snr_results.keys())\n",
    "machine_ids = list(snr_results[dB_levels[0]].keys())\n",
    "snr_values = [[snr_results[dB_level][machine_id] for machine_id in machine_ids] for dB_level in dB_levels]\n",
    "\n",
    "# Plot\n",
    "fig, ax = plt.subplots(figsize=(10, 6))\n",
    "bar_width = 0.25\n",
    "x = np.arange(len(machine_ids))\n",
    "\n",
    "for i, (dB_level, values) in enumerate(zip(dB_levels, snr_values)):\n",
    "    ax.bar(x + i * bar_width, values, width=bar_width, label=dB_level)\n",
    "\n",
    "ax.set_ylabel('SNR (dB)')\n",
    "ax.set_xlabel('Machine ID')\n",
    "ax.set_title('SNR for different machines and dB levels')\n",
    "ax.set_xticks(x + bar_width / 2)\n",
    "ax.set_xticklabels(machine_ids)\n",
    "ax.legend()\n",
    "\n",
    "plt.tight_layout()\n",
    "plt.show()"
   ]
  },
  {
   "cell_type": "markdown",
   "id": "ce3e2d3d",
   "metadata": {},
   "source": [
    "I'm not sure what to do with the results or how i should interpret it:\n",
    "\n",
    "negative SNR level means more noise is present in the signal, the noise level is higher than the signal level\n",
    "--> 6dB should have the highest noise level\n",
    "\n",
    "\n",
    "on lower dB levels the noise is lower because the SNR gets lower.\n",
    "\n",
    "blue 6dB should have the highest noise level compared to the others?\n",
    "\n",
    "green min6dB should have the lowest noise level\n",
    "\n",
    "within the group 6dB (which has the highest noise level), machine id_04 should perfrom the best with the lowest noise level.\n"
   ]
  }
 ],
 "metadata": {
  "kernelspec": {
   "display_name": "Python 3 (ipykernel)",
   "language": "python",
   "name": "python3"
  },
  "language_info": {
   "codemirror_mode": {
    "name": "ipython",
    "version": 3
   },
   "file_extension": ".py",
   "mimetype": "text/x-python",
   "name": "python",
   "nbconvert_exporter": "python",
   "pygments_lexer": "ipython3",
   "version": "3.9.16"
  },
  "toc": {
   "base_numbering": 1,
   "nav_menu": {},
   "number_sections": true,
   "sideBar": true,
   "skip_h1_title": false,
   "title_cell": "Table of Contents",
   "title_sidebar": "Contents",
   "toc_cell": false,
   "toc_position": {
    "height": "calc(100% - 180px)",
    "left": "10px",
    "top": "150px",
    "width": "188px"
   },
   "toc_section_display": true,
   "toc_window_display": true
  },
  "varInspector": {
   "cols": {
    "lenName": 16,
    "lenType": 16,
    "lenVar": 40
   },
   "kernels_config": {
    "python": {
     "delete_cmd_postfix": "",
     "delete_cmd_prefix": "del ",
     "library": "var_list.py",
     "varRefreshCmd": "print(var_dic_list())"
    },
    "r": {
     "delete_cmd_postfix": ") ",
     "delete_cmd_prefix": "rm(",
     "library": "var_list.r",
     "varRefreshCmd": "cat(var_dic_list()) "
    }
   },
   "types_to_exclude": [
    "module",
    "function",
    "builtin_function_or_method",
    "instance",
    "_Feature"
   ],
   "window_display": false
  }
 },
 "nbformat": 4,
 "nbformat_minor": 5
}
