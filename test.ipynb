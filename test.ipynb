{
 "cells": [
  {
   "cell_type": "code",
   "execution_count": null,
   "id": "f2d054a1",
   "metadata": {},
   "outputs": [],
   "source": [
    "import os\n",
    "import numpy as np\n",
    "import tensorflow as tf\n",
    "from sklearn.model_selection import train_test_split\n",
    "from sklearn.metrics import precision_recall_curve, auc\n",
    "import matplotlib.pyplot as plt\n",
    "\n",
    "# PICKLE_DIR_SMALL = \"./\"  # Update this to the folder where your pickle files are stored\n",
    "save_path = 'D:/9999_OneDrive_ZHAW/OneDrive - ZHAW/BA_ZHAW_RTO/models/mimii/'\n",
    "# Function to load data\n",
    "def load_data_with_key(key, pickle_dir):\n",
    "    files, data_norm, labels_norm, data_n_norm = load_data_sub(key + \"_norm\", pickle_dir)\n",
    "    _, data_abnorm, _, data_n_abnorm = load_data_sub(key + \"_abnorm\", pickle_dir)\n",
    "    return data_n_norm, data_n_abnorm\n",
    "\n",
    "# Function to split data into training and evaluation sets\n",
    "def split_data(data_n_norm, data_n_abnorm, train_ratio=0.6):\n",
    "    X = np.concatenate((data_n_norm, data_n_abnorm))\n",
    "    y = np.concatenate((np.zeros(len(data_n_norm)), np.ones(len(data_n_abnorm))))\n",
    "    X_train, X_eval, y_train, y_eval = train_test_split(X, y, train_size=train_ratio, random_state=42, stratify=y)\n",
    "    return X_train, X_eval, y_train, y_eval\n",
    "\n",
    "# Function to create, train, visualize and evaluate autoencoder for each dataset\n",
    "def train_and_evaluate_autoencoder(keys, pickle_dir, config):\n",
    "    for key in keys:\n",
    "        print(f\"Processing {key}\")\n",
    "        data_n_norm, data_n_abnorm = load_data_with_key(key, pickle_dir)\n",
    "        X_train, X_eval, y_train, y_eval = split_data(data_n_norm, data_n_abnorm)\n",
    "\n",
    "        input_shape = X_train.shape[1:]\n",
    "        output_shape = X_train.shape[1:]\n",
    "\n",
    "        autoencoder, encoder, decoder = create_autoencoder(input_shape, output_shape, config)\n",
    "\n",
    "        # Training the autoencoder\n",
    "        history = autoencoder.fit(X_train, X_train, epochs=config['epochs'], batch_size=config['batch_size'], validation_data=(X_eval, X_eval))\n",
    "\n",
    "        # Visualizing the loss\n",
    "        plt.plot(history.history['loss'])\n",
    "        plt.plot(history.history['val_loss'])\n",
    "        plt.title('Model loss')\n",
    "        plt.ylabel('Loss')\n",
    "        plt.xlabel('Epoch')\n",
    "        plt.legend(['Train', 'Validation'], loc='upper right')\n",
    "        plt.show()\n",
    "\n",
    "        # Evaluating the autoencoder\n",
    "        X_eval_encoded = encoder.predict(X_eval)\n",
    "        X_eval_decoded = decoder.predict(X_eval_encoded)\n",
    "        reconstruction_error = np.mean((X_eval - X_eval_decoded) ** 2, axis = 1)\n",
    "\n",
    "        # Precision-Recall curve and AUC\n",
    "        precision, recall, _ = precision_recall_curve(y_eval, reconstruction_error)\n",
    "        pr_auc = auc(recall, precision)\n",
    "\n",
    "        print(f\"Reconstruction error: {reconstruction_error}\")\n",
    "        print(f\"Precision-Recall AUC: {pr_auc}\")\n",
    "\n",
    "        # Saving the model\n",
    "        autoencoder.save(save_path + f\"{key}_autoencoder.h5\")\n",
    "        encoder.save(save_path + f\"{key}_encoder.h5\")\n",
    "        decoder.save(save_path + f\"{key}_decoder.h5\")\n"
   ]
  },
  {
   "cell_type": "code",
   "execution_count": null,
   "id": "a351f912",
   "metadata": {},
   "outputs": [],
   "source": [
    "config = {\n",
    "    'n_ls_a': 4,\n",
    "    'n_cl_a': 100,\n",
    "    'n_hl_a': 2,\n",
    "    'activ': 'relu',\n",
    "    'seed': 42,\n",
    "    'epochs': 50,\n",
    "    'batch_size': 128,\n",
    "    'patience': 15,\n",
    "}\n"
   ]
  },
  {
   "cell_type": "code",
   "execution_count": null,
   "id": "003dec89",
   "metadata": {},
   "outputs": [],
   "source": [
    "train_and_evaluate_autoencoder(['id00_6dB'], PICKLE_DIR_SMALL, config)"
   ]
  }
 ],
 "metadata": {
  "kernelspec": {
   "display_name": "Python 3 (ipykernel)",
   "language": "python",
   "name": "python3"
  },
  "language_info": {
   "codemirror_mode": {
    "name": "ipython",
    "version": 3
   },
   "file_extension": ".py",
   "mimetype": "text/x-python",
   "name": "python",
   "nbconvert_exporter": "python",
   "pygments_lexer": "ipython3",
   "version": "3.9.16"
  },
  "toc": {
   "base_numbering": 1,
   "nav_menu": {},
   "number_sections": true,
   "sideBar": true,
   "skip_h1_title": false,
   "title_cell": "Table of Contents",
   "title_sidebar": "Contents",
   "toc_cell": false,
   "toc_position": {},
   "toc_section_display": true,
   "toc_window_display": false
  },
  "varInspector": {
   "cols": {
    "lenName": 16,
    "lenType": 16,
    "lenVar": 40
   },
   "kernels_config": {
    "python": {
     "delete_cmd_postfix": "",
     "delete_cmd_prefix": "del ",
     "library": "var_list.py",
     "varRefreshCmd": "print(var_dic_list())"
    },
    "r": {
     "delete_cmd_postfix": ") ",
     "delete_cmd_prefix": "rm(",
     "library": "var_list.r",
     "varRefreshCmd": "cat(var_dic_list()) "
    }
   },
   "types_to_exclude": [
    "module",
    "function",
    "builtin_function_or_method",
    "instance",
    "_Feature"
   ],
   "window_display": false
  }
 },
 "nbformat": 4,
 "nbformat_minor": 5
}
