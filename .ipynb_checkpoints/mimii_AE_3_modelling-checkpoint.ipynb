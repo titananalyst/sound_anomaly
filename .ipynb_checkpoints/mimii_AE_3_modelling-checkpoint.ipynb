{
 "cells": [
  {
   "cell_type": "code",
   "execution_count": 2,
   "id": "0da3e63c",
   "metadata": {},
   "outputs": [],
   "source": [
    "import os\n",
    "import pickle\n",
    "import matplotlib.pyplot as plt  # import plt before librosa, conflict!\n",
    "import librosa\n",
    "import numpy as np\n",
    "import pandas as pd\n",
    "from tqdm import tqdm\n",
    "import librosa.display\n",
    "from sklearn.decomposition import PCA\n",
    "\n",
    "PICKLE_DIR = 'D:\\9999_OneDrive_ZHAW\\OneDrive - ZHAW\\BA_ZHAW_RTO\\pickle'\n",
    "root = 'Z:\\\\BA\\\\mimii_baseline\\\\dataset'"
   ]
  },
  {
   "cell_type": "markdown",
   "id": "b2341be9",
   "metadata": {},
   "source": [
    "# Functions"
   ]
  },
  {
   "cell_type": "code",
   "execution_count": 8,
   "id": "59a98fef",
   "metadata": {},
   "outputs": [],
   "source": [
    "# pickle I/O\n",
    "def save_pickle(filename, save_data, root=PICKLE_DIR):\n",
    "    \"\"\"\n",
    "    picklenize the data.\n",
    "\n",
    "    filename : str\n",
    "        pickle filename\n",
    "    data : free datatype\n",
    "        some data will be picklenized\n",
    "\n",
    "    return : None\n",
    "    \"\"\"\n",
    "    filepath = os.path.join(root, filename) + '.pickle'\n",
    "    with open(filepath, 'wb') as sf:\n",
    "        pickle.dump(save_data, sf)\n",
    "\n",
    "\n",
    "def load_pickle(filename, root=PICKLE_DIR):\n",
    "    \"\"\"\n",
    "    unpicklenize the data.\n",
    "\n",
    "    filename : str\n",
    "        pickle filename\n",
    "\n",
    "    return : data\n",
    "    \"\"\"\n",
    "    filepath = os.path.join(root, filename) + '.pickle'\n",
    "    with open(filepath, 'rb') as lf:\n",
    "        load_data = pickle.load(lf)\n",
    "    return load_data\n",
    "\n",
    "\n",
    "# Normalization\n",
    "def normalize_data(x, lb, ub, max_v=1.0, min_v=-1.0):\n",
    "    '''\n",
    "    Max-Min normalize of 'x' with max value 'max_v' min value 'min_v'\n",
    "    '''\n",
    "\n",
    "    # Set-up\n",
    "    if len(ub)==0:\n",
    "        ub = x.max(0) # OPTION 1\n",
    "        # applied to the first dimension (0) columns of the data\n",
    "        #ub = np.percentile(x, 99.9, axis=0, keepdims=True) # OPTION 2:\n",
    "        \n",
    "    if len(lb)==0:\n",
    "        lb = x.min(0) \n",
    "        #lb = np.percentile(x, 0.1, axis=0, keepdims=True)\n",
    "    \n",
    "    ub.shape = (1,-1)\n",
    "    lb.shape = (1,-1)           \n",
    "    max_min = max_v - min_v\n",
    "    delta = ub-lb\n",
    "\n",
    "    # Compute\n",
    "    x_n = max_min * (x - lb) / delta + min_v\n",
    "    if 0 in delta:\n",
    "        idx = np.ravel(delta == 0)\n",
    "        x_n[:,idx] = x[:,idx] - lb[:, idx]\n",
    "\n",
    "    return x_n, lb, ub \n",
    "\n",
    "\n",
    "# extended pickle loader\n",
    "def load_data(key_name, pickle_dir):\n",
    "    file_locs = load_pickle(f'{key_name}', root=pickle_dir)\n",
    "    data = load_pickle(f'{key_name}_data', root=pickle_dir)\n",
    "    labels = load_pickle(f'{key_name}_labels', root=pickle_dir)\n",
    "    data_n = load_pickle(f'{key_name}_data_n', root=pickle_dir)\n",
    "    return file_locs, data, labels, data_n"
   ]
  },
  {
   "cell_type": "markdown",
   "id": "d0d537cb",
   "metadata": {},
   "source": [
    "# load data & normalize"
   ]
  },
  {
   "cell_type": "markdown",
   "id": "da4a7e53",
   "metadata": {},
   "source": [
    "## load total 6dB"
   ]
  },
  {
   "cell_type": "code",
   "execution_count": 5,
   "id": "ecaeef63",
   "metadata": {},
   "outputs": [
    {
     "name": "stdout",
     "output_type": "stream",
     "text": [
      "[[0.50680536 0.49459252 0.5638561  ... 0.52019787 0.5181766  0.5108569 ]\n",
      " [0.6925782  0.6364584  0.70216686 ... 0.5696227  0.57920265 0.6265522 ]\n",
      " [0.65501666 0.5968383  0.70810354 ... 0.5323048  0.5360604  0.5510274 ]\n",
      " ...\n",
      " [0.73291856 0.76494384 0.623315   ... 0.28893778 0.29114878 0.24939412]\n",
      " [0.7974568  0.69309485 0.67207146 ... 0.30297497 0.2746842  0.2960698 ]\n",
      " [0.8139511  0.7084099  0.6487108  ... 0.25420263 0.2499758  0.27348074]]\n",
      "[[0.33771682 0.27785784 0.26559427 ... 0.18123129 0.19518875 0.1974282 ]\n",
      " [0.28140482 0.26396242 0.3544001  ... 0.19414781 0.20980471 0.2064001 ]\n",
      " [0.31561092 0.3216098  0.32545492 ... 0.16656087 0.18521224 0.214315  ]\n",
      " ...\n",
      " [0.8104279  0.81536496 0.9197512  ... 0.13417602 0.16365665 0.20735407]\n",
      " [0.9157321  0.85799456 0.8580185  ... 0.1800388  0.1731957  0.19838832]\n",
      " [0.78237855 0.8666426  0.8218058  ... 0.17870124 0.17531979 0.22040789]]\n"
     ]
    }
   ],
   "source": [
    "six_norm = load_pickle('six_norm')\n",
    "six_abnorm = load_pickle('six_abnorm')\n",
    "six_norm_data = load_pickle('six_norm_data')\n",
    "six_abnorm_data = load_pickle('six_abnorm_data')\n",
    "\n",
    "six_norm_data_n, lb, ub = normalize_data(six_norm_data, [], [], max_v=1.0, min_v=0.0)\n",
    "print(six_norm_data_n)\n",
    "\n",
    "six_abnorm_data_n, lb, ub = normalize_data(six_abnorm_data, [], [], max_v=1.0, min_v=0.0)\n",
    "print(six_abnorm_data_n)"
   ]
  },
  {
   "cell_type": "markdown",
   "id": "12efbf58",
   "metadata": {},
   "source": [
    "## load total 0dB"
   ]
  },
  {
   "cell_type": "code",
   "execution_count": null,
   "id": "e091ab7f",
   "metadata": {},
   "outputs": [],
   "source": [
    "zero_norm = load_pickle('zero_norm')\n",
    "zero_abnorm = load_pickle('zero_abnorm')\n",
    "zero_norm_data = load_pickle('zero_norm_data')\n",
    "zero_abnorm_data = load_pickle('zero_abnorm_data')\n",
    "\n",
    "zero_norm_data_n, lb, ub = normalize_data(zero_norm_data, [], [], max_v=1.0, min_v=0.0)\n",
    "print(zero_norm_data_n)\n",
    "\n",
    "zero_abnorm_data_n, lb, ub = normalize_data(zero_abnorm_data, [], [], max_v=1.0, min_v=0.0)\n",
    "print(zero_abnorm_data_n)"
   ]
  },
  {
   "cell_type": "markdown",
   "id": "3cac709b",
   "metadata": {},
   "source": [
    "## load total min6dB"
   ]
  },
  {
   "cell_type": "code",
   "execution_count": null,
   "id": "df78aaf0",
   "metadata": {},
   "outputs": [],
   "source": [
    "min_six_norm = load_pickle('min_six_norm')\n",
    "min_six_abnorm = load_pickle('min_six_abnorm')\n",
    "min_six_norm_data = load_pickle('min_six_norm_data')\n",
    "min_six_abnorm_data = load_pickle('min_six_abnorm_data')\n",
    "\n",
    "min_six_norm_data_n, lb, ub = normalize_data(min_six_norm_data, [], [], max_v=1.0, min_v=0.0)\n",
    "print(min_six_norm_data_n)\n",
    "\n",
    "min_six_abnorm_data_n, lb, ub = normalize_data(min_six_abnorm_data, [], [], max_v=1.0, min_v=0.0)\n",
    "print(min_six_abnorm_data_n)"
   ]
  },
  {
   "cell_type": "markdown",
   "id": "996e18f2",
   "metadata": {},
   "source": [
    "## load partial: id_00 all dB "
   ]
  },
  {
   "cell_type": "code",
   "execution_count": null,
   "id": "ead5724d",
   "metadata": {},
   "outputs": [],
   "source": [
    "id00_all_dB_norm = load_pickle('id00_all_dB_norm')\n",
    "id00_all_dB_abnorm = load_pickle('id00_all_dB_abnorm')\n",
    "id00_all_dB_norm_data = load_pickle('id00_all_dB_norm_data')\n",
    "id00_all_dB_abnorm_data = load_pickle('id00_all_dB_abnorm_data')\n",
    "\n",
    "id00_all_dB_norm_data_n, lb, ub = normalize_data(id00_all_dB_norm_data, [], [], max_v=1.0, min_v=0.0)\n",
    "print(id00_all_dB_norm_data_n)\n",
    "\n",
    "id00_all_dB_abnorm_data_n, lb, ub = normalize_data(id00_all_dB_abnorm_data, [], [], max_v=1.0, min_v=0.0)\n",
    "print(id00_all_dB_abnorm_data_n)"
   ]
  },
  {
   "cell_type": "markdown",
   "id": "48fda784",
   "metadata": {},
   "source": [
    "### load partial: id_00 6dB "
   ]
  },
  {
   "cell_type": "code",
   "execution_count": 10,
   "id": "7142bfc5",
   "metadata": {
    "scrolled": true
   },
   "outputs": [
    {
     "name": "stdout",
     "output_type": "stream",
     "text": [
      "[[0.50680536 0.49459252 0.534202   ... 0.48582694 0.43123582 0.4465847 ]\n",
      " [0.6925782  0.6364584  0.6819166  ... 0.5535278  0.5072264  0.592123  ]\n",
      " [0.65501666 0.5968383  0.688257   ... 0.5024107  0.45350498 0.49711692]\n",
      " ...\n",
      " [0.5391299  0.4365312  0.63625014 ... 0.5339344  0.48305562 0.5366724 ]\n",
      " [0.39504427 0.34794715 0.5226912  ... 0.49982813 0.5188925  0.5795343 ]\n",
      " [0.5010365  0.34402224 0.5903437  ... 0.5364552  0.5471933  0.5185452 ]]\n",
      "[[0.33771682 0.27785784 0.26559427 ... 0.18123129 0.19518875 0.1974282 ]\n",
      " [0.28140482 0.26396242 0.3544001  ... 0.19414781 0.20980471 0.2064001 ]\n",
      " [0.31561092 0.3216098  0.32545492 ... 0.16656087 0.18521224 0.214315  ]\n",
      " ...\n",
      " [0.6177849  0.5451435  0.72553694 ... 0.37715858 0.41393426 0.4761081 ]\n",
      " [0.53179485 0.5609169  0.6898305  ... 0.32866263 0.41131774 0.47761726]\n",
      " [0.5921611  0.6126838  0.6097828  ... 0.28921074 0.36880115 0.4058862 ]]\n"
     ]
    }
   ],
   "source": [
    "file_name = 'id00_6dB'\n",
    "\n",
    "id00_6dB_norm, id00_6dB_norm_data, id00_6dB_norm_labels, id00_6dB_norm_data_n = load_data(f'{file_name}_norm', PICKLE_DIR)\n",
    "print(id00_6dB_norm_data_n)\n",
    "id00_6dB_abnorm, id00_6dB_abnorm_data, id00_6dB_abnorm_labels, id00_6dB_abnorm_data_n = load_data(f'{file_name}_abnorm', PICKLE_DIR)\n",
    "print(id00_6dB_abnorm_data_n)\n"
   ]
  },
  {
   "cell_type": "markdown",
   "id": "695140e3",
   "metadata": {},
   "source": [
    "### load partial: id_00 0dB "
   ]
  },
  {
   "cell_type": "code",
   "execution_count": 11,
   "id": "f01715f1",
   "metadata": {},
   "outputs": [
    {
     "name": "stdout",
     "output_type": "stream",
     "text": [
      "[[0.7248219  0.6460692  0.6492822  ... 0.5508336  0.5041934  0.49037144]\n",
      " [0.84171057 0.80061233 0.81332225 ... 0.5977947  0.55973077 0.6350596 ]\n",
      " [0.86478496 0.8329002  0.7758017  ... 0.5705719  0.5328736  0.5486187 ]\n",
      " ...\n",
      " [0.75962055 0.773591   0.7736992  ... 0.54087806 0.4846559  0.55415016]\n",
      " [0.79902726 0.81111616 0.6325882  ... 0.52410984 0.5458681  0.60637325]\n",
      " [0.9471523  0.8824311  0.7789625  ... 0.5593604  0.57958084 0.55678195]]\n",
      "[[0.21201208 0.20135647 0.41367725 ... 0.21131293 0.25032797 0.27131045]\n",
      " [0.13641445 0.24955566 0.4225957  ... 0.26952186 0.30411327 0.2917224 ]\n",
      " [0.37400025 0.29043868 0.30046636 ... 0.21397838 0.2161795  0.29956993]\n",
      " ...\n",
      " [0.8225706  0.68023056 0.4863877  ... 0.3685288  0.46625975 0.5089374 ]\n",
      " [0.7546989  0.72134197 0.7071129  ... 0.32083333 0.38415465 0.4734852 ]\n",
      " [0.8540363  0.72514147 0.7368955  ... 0.32999572 0.4417715  0.50300443]]\n"
     ]
    }
   ],
   "source": [
    "file_name = 'id00_0dB'\n",
    "\n",
    "id00_6dB_norm, id00_6dB_norm_data, id00_6dB_norm_labels, id00_6dB_norm_data_n = load_data(f'{file_name}_norm', PICKLE_DIR)\n",
    "print(id00_6dB_norm_data_n)\n",
    "id00_6dB_abnorm, id00_6dB_abnorm_data, id00_6dB_abnorm_labels, id00_6dB_abnorm_data_n = load_data(f'{file_name}_abnorm', PICKLE_DIR)\n",
    "print(id00_6dB_abnorm_data_n)"
   ]
  },
  {
   "cell_type": "markdown",
   "id": "35334daa",
   "metadata": {},
   "source": [
    "### load partial: id_00 -6dB "
   ]
  },
  {
   "cell_type": "code",
   "execution_count": null,
   "id": "e676a143",
   "metadata": {},
   "outputs": [],
   "source": []
  },
  {
   "cell_type": "markdown",
   "id": "4b949760",
   "metadata": {},
   "source": [
    "## load partial: id_02 all dB "
   ]
  },
  {
   "cell_type": "code",
   "execution_count": null,
   "id": "33ffa9bb",
   "metadata": {},
   "outputs": [],
   "source": [
    "id02_all_dB_norm = load_pickle('id02_all_dB_norm')\n",
    "id02_all_dB_abnorm = load_pickle('id02_all_dB_abnorm')\n",
    "id02_all_dB_norm_data = load_pickle('id02_all_dB_norm_data')\n",
    "id02_all_dB_abnorm_data = load_pickle('id02_all_dB_abnorm_data')\n",
    "\n",
    "id02_all_dB_norm_data_n, lb, ub = normalize_data(id02_all_dB_norm_data, [], [], max_v=1.0, min_v=0.0)\n",
    "print(id02_all_dB_norm_data_n)\n",
    "\n",
    "id02_all_dB_abnorm_data_n, lb, ub = normalize_data(id02_all_dB_abnorm_data, [], [], max_v=1.0, min_v=0.0)\n",
    "print(id02_all_dB_abnorm_data_n)"
   ]
  },
  {
   "cell_type": "markdown",
   "id": "bbf8fa73",
   "metadata": {},
   "source": [
    "### load partial: id_02 6dB "
   ]
  },
  {
   "cell_type": "code",
   "execution_count": null,
   "id": "e6c422cb",
   "metadata": {},
   "outputs": [],
   "source": []
  },
  {
   "cell_type": "markdown",
   "id": "129be2e2",
   "metadata": {},
   "source": [
    "### load partial: id_02 0dB "
   ]
  },
  {
   "cell_type": "code",
   "execution_count": null,
   "id": "d5fe334a",
   "metadata": {},
   "outputs": [],
   "source": []
  },
  {
   "cell_type": "markdown",
   "id": "9790ed0d",
   "metadata": {},
   "source": [
    "### load partial: id_02 -6dB "
   ]
  },
  {
   "cell_type": "code",
   "execution_count": null,
   "id": "2fe0bed4",
   "metadata": {},
   "outputs": [],
   "source": []
  },
  {
   "cell_type": "markdown",
   "id": "657f8c6f",
   "metadata": {},
   "source": [
    "## load partial: id_04 all dB "
   ]
  },
  {
   "cell_type": "code",
   "execution_count": null,
   "id": "cc71185a",
   "metadata": {},
   "outputs": [],
   "source": [
    "id04_all_dB_norm = load_pickle('id04_all_dB_norm')\n",
    "id04_all_dB_abnorm = load_pickle('id04_all_dB_abnorm')\n",
    "id04_all_dB_norm_data = load_pickle('id04_all_dB_norm_data')\n",
    "id04_all_dB_abnorm_data = load_pickle('id04_all_dB_abnorm_data')\n",
    "\n",
    "id04_all_dB_norm_data_n, lb, ub = normalize_data(id04_all_dB_norm_data, [], [], max_v=1.0, min_v=0.0)\n",
    "print(id04_all_dB_norm_data_n)\n",
    "\n",
    "id04_all_dB_abnorm_data_n, lb, ub = normalize_data(id04_all_dB_abnorm_data, [], [], max_v=1.0, min_v=0.0)\n",
    "print(id04_all_dB_abnorm_data_n)"
   ]
  },
  {
   "cell_type": "markdown",
   "id": "a75ef46e",
   "metadata": {},
   "source": [
    "## load partial: id_06 all dB "
   ]
  },
  {
   "cell_type": "code",
   "execution_count": null,
   "id": "57cce1c0",
   "metadata": {},
   "outputs": [],
   "source": [
    "id06_all_dB_norm = load_pickle('id06_all_dB_norm')\n",
    "id06_all_dB_abnorm = load_pickle('id06_all_dB_abnorm')\n",
    "id06_all_dB_norm_data = load_pickle('id06_all_dB_norm_data')\n",
    "id06_all_dB_abnorm_data = load_pickle('id06_all_dB_abnorm_data')\n",
    "\n",
    "id06_all_dB_norm_data_n, lb, ub = normalize_data(id06_all_dB_norm_data, [], [], max_v=1.0, min_v=0.0)\n",
    "print(id06_all_dB_norm_data_n)\n",
    "\n",
    "id06_all_dB_abnorm_data_n, lb, ub = normalize_data(id06_all_dB_abnorm_data, [], [], max_v=1.0, min_v=0.0)\n",
    "print(id06_all_dB_abnorm_data_n)"
   ]
  },
  {
   "cell_type": "markdown",
   "id": "b9eac4cb",
   "metadata": {},
   "source": [
    "# AE"
   ]
  }
 ],
 "metadata": {
  "kernelspec": {
   "display_name": "Python 3 (ipykernel)",
   "language": "python",
   "name": "python3"
  },
  "language_info": {
   "codemirror_mode": {
    "name": "ipython",
    "version": 3
   },
   "file_extension": ".py",
   "mimetype": "text/x-python",
   "name": "python",
   "nbconvert_exporter": "python",
   "pygments_lexer": "ipython3",
   "version": "3.9.16"
  },
  "toc": {
   "base_numbering": 1,
   "nav_menu": {},
   "number_sections": true,
   "sideBar": true,
   "skip_h1_title": false,
   "title_cell": "Table of Contents",
   "title_sidebar": "Contents",
   "toc_cell": false,
   "toc_position": {
    "height": "calc(100% - 180px)",
    "left": "10px",
    "top": "150px",
    "width": "240px"
   },
   "toc_section_display": true,
   "toc_window_display": true
  },
  "varInspector": {
   "cols": {
    "lenName": 16,
    "lenType": 16,
    "lenVar": 40
   },
   "kernels_config": {
    "python": {
     "delete_cmd_postfix": "",
     "delete_cmd_prefix": "del ",
     "library": "var_list.py",
     "varRefreshCmd": "print(var_dic_list())"
    },
    "r": {
     "delete_cmd_postfix": ") ",
     "delete_cmd_prefix": "rm(",
     "library": "var_list.r",
     "varRefreshCmd": "cat(var_dic_list()) "
    }
   },
   "types_to_exclude": [
    "module",
    "function",
    "builtin_function_or_method",
    "instance",
    "_Feature"
   ],
   "window_display": false
  }
 },
 "nbformat": 4,
 "nbformat_minor": 5
}
