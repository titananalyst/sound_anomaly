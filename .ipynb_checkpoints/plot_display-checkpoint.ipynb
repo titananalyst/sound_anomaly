{
 "cells": [
  {
   "cell_type": "code",
   "execution_count": 1,
   "metadata": {},
   "outputs": [],
   "source": [
    "%matplotlib inline"
   ]
  },
  {
   "cell_type": "markdown",
   "metadata": {},
   "source": [
    "\n",
    "# Using display.specshow\n",
    "\n",
    "This notebook gives a more in-depth demonstration of all things that `specshow`\n",
    "can do to help generate beautiful visualizations of spectro-temporal data.\n"
   ]
  },
  {
   "cell_type": "code",
   "execution_count": 2,
   "metadata": {},
   "outputs": [],
   "source": [
    "# Code source: Brian McFee\n",
    "# License: ISC\n",
    "# sphinx_gallery_thumbnail_number = 6"
   ]
  },
  {
   "cell_type": "markdown",
   "metadata": {},
   "source": [
    "All of librosa's plotting functions rely on matplotlib.\n",
    "To demonstrate everything we can do, it will help to\n",
    "import matplotlib's pyplot API here.\n",
    "\n"
   ]
  },
  {
   "cell_type": "code",
   "execution_count": 3,
   "metadata": {},
   "outputs": [],
   "source": [
    "import numpy as np\n",
    "import matplotlib.pyplot as plt\n",
    "\n",
    "import librosa"
   ]
  },
  {
   "cell_type": "markdown",
   "metadata": {},
   "source": [
    "First, we'll load in a demo track\n",
    "\n"
   ]
  },
  {
   "cell_type": "code",
   "execution_count": 4,
   "metadata": {},
   "outputs": [
    {
     "name": "stderr",
     "output_type": "stream",
     "text": [
      "S:\\Programs\\Anaconda3\\lib\\site-packages\\paramiko\\transport.py:219: CryptographyDeprecationWarning: Blowfish has been deprecated\n",
      "  \"class\": algorithms.Blowfish,\n"
     ]
    },
    {
     "ename": "ParameterError",
     "evalue": "Unknown example key: Z:\\BA\\mimii_baseline\\dataset\u0006dB\\pump\\id_00\normal\u000000000.wav",
     "output_type": "error",
     "traceback": [
      "\u001b[1;31m---------------------------------------------------------------------------\u001b[0m",
      "\u001b[1;31mParameterError\u001b[0m                            Traceback (most recent call last)",
      "Cell \u001b[1;32mIn[4], line 1\u001b[0m\n\u001b[1;32m----> 1\u001b[0m y, sr \u001b[38;5;241m=\u001b[39m librosa\u001b[38;5;241m.\u001b[39mload(\u001b[43mlibrosa\u001b[49m\u001b[38;5;241;43m.\u001b[39;49m\u001b[43mex\u001b[49m\u001b[43m(\u001b[49m\u001b[38;5;124;43m'\u001b[39;49m\u001b[38;5;124;43mZ:\u001b[39;49m\u001b[38;5;124;43m\\\u001b[39;49m\u001b[38;5;124;43mBA\u001b[39;49m\u001b[38;5;124;43m\\\u001b[39;49m\u001b[38;5;124;43mmimii_baseline\u001b[39;49m\u001b[38;5;124;43m\\\u001b[39;49m\u001b[38;5;124;43mdataset\u001b[39;49m\u001b[38;5;130;43;01m\\6\u001b[39;49;00m\u001b[38;5;124;43mdB\u001b[39;49m\u001b[38;5;124;43m\\\u001b[39;49m\u001b[38;5;124;43mpump\u001b[39;49m\u001b[38;5;124;43m\\\u001b[39;49m\u001b[38;5;124;43mid_00\u001b[39;49m\u001b[38;5;130;43;01m\\n\u001b[39;49;00m\u001b[38;5;124;43mormal\u001b[39;49m\u001b[38;5;130;43;01m\\000\u001b[39;49;00m\u001b[38;5;124;43m00000.wav\u001b[39;49m\u001b[38;5;124;43m'\u001b[39;49m\u001b[43m)\u001b[49m)\n",
      "File \u001b[1;32mS:\\Programs\\Anaconda3\\lib\\site-packages\\librosa\\util\\files.py:91\u001b[0m, in \u001b[0;36mexample\u001b[1;34m(key, hq)\u001b[0m\n\u001b[0;32m     44\u001b[0m \u001b[38;5;124;03m\"\"\"Retrieve the example recording identified by 'key'.\u001b[39;00m\n\u001b[0;32m     45\u001b[0m \n\u001b[0;32m     46\u001b[0m \u001b[38;5;124;03mThe first time an example is requested, it will be downloaded from\u001b[39;00m\n\u001b[1;32m   (...)\u001b[0m\n\u001b[0;32m     87\u001b[0m \u001b[38;5;124;03mpooch.os_cache\u001b[39;00m\n\u001b[0;32m     88\u001b[0m \u001b[38;5;124;03m\"\"\"\u001b[39;00m\n\u001b[0;32m     90\u001b[0m \u001b[38;5;28;01mif\u001b[39;00m key \u001b[38;5;129;01mnot\u001b[39;00m \u001b[38;5;129;01min\u001b[39;00m __TRACKMAP:\n\u001b[1;32m---> 91\u001b[0m     \u001b[38;5;28;01mraise\u001b[39;00m ParameterError(\u001b[38;5;124mf\u001b[39m\u001b[38;5;124m\"\u001b[39m\u001b[38;5;124mUnknown example key: \u001b[39m\u001b[38;5;132;01m{\u001b[39;00mkey\u001b[38;5;132;01m}\u001b[39;00m\u001b[38;5;124m\"\u001b[39m)\n\u001b[0;32m     93\u001b[0m \u001b[38;5;28;01mif\u001b[39;00m hq:\n\u001b[0;32m     94\u001b[0m     ext \u001b[38;5;241m=\u001b[39m \u001b[38;5;124m\"\u001b[39m\u001b[38;5;124m.hq.ogg\u001b[39m\u001b[38;5;124m\"\u001b[39m\n",
      "\u001b[1;31mParameterError\u001b[0m: Unknown example key: Z:\\BA\\mimii_baseline\\dataset\u0006dB\\pump\\id_00\normal\u000000000.wav"
     ]
    }
   ],
   "source": [
    "y, sr = librosa.load(librosa.ex('Z:\\BA\\mimii_baseline\\dataset\\6dB\\pump\\id_00\\normal\\00000000.wav'))"
   ]
  },
  {
   "cell_type": "markdown",
   "metadata": {},
   "source": [
    "The first thing we might want to do is display an ordinary\n",
    "(linear) spectrogram.\n",
    "We'll do this by first computing the short-time Fourier\n",
    "transform, and then mapping the magnitudes to a decibel\n",
    "scale.\n",
    "\n",
    "\n"
   ]
  },
  {
   "cell_type": "code",
   "execution_count": null,
   "metadata": {},
   "outputs": [],
   "source": [
    "D = librosa.stft(y)  # STFT of y\n",
    "S_db = librosa.amplitude_to_db(np.abs(D), ref=np.max)"
   ]
  },
  {
   "cell_type": "markdown",
   "metadata": {},
   "source": [
    "If you're familiar with matplotlib already, you may know\n",
    "that there are two ways of using it: the `pyplot` interface\n",
    "and the object-oriented interface.\n",
    "Both are supported by librosa, as we'll show here.\n",
    "\n",
    "First, the pyplot interface:\n",
    "\n"
   ]
  },
  {
   "cell_type": "code",
   "execution_count": null,
   "metadata": {},
   "outputs": [],
   "source": [
    "plt.figure()\n",
    "librosa.display.specshow(S_db)\n",
    "plt.colorbar()"
   ]
  },
  {
   "cell_type": "markdown",
   "metadata": {},
   "source": [
    "And now the object-oriented interface\n",
    "\n"
   ]
  },
  {
   "cell_type": "code",
   "execution_count": null,
   "metadata": {},
   "outputs": [],
   "source": [
    "fig, ax = plt.subplots()\n",
    "img = librosa.display.specshow(S_db, ax=ax)\n",
    "fig.colorbar(img, ax=ax)"
   ]
  },
  {
   "cell_type": "markdown",
   "metadata": {},
   "source": [
    "Both figures are identical, but they use different programming\n",
    "interfaces to construct.  Most people find the pyplot interface\n",
    "to be quicker to learn, but the object-oriented interface can\n",
    "be a little more flexible for complex figures.\n",
    "\n",
    "For the remainder of this example, we'll use the object-oriented\n",
    "interface.\n",
    "\n"
   ]
  },
  {
   "cell_type": "markdown",
   "metadata": {},
   "source": [
    "## Decorating your plot\n",
    "The figure above conveys the basic content of the spectrogram,\n",
    "but it's missing axis labels. Without that information, it's\n",
    "impossible for a reader to know how to interpret the visualization.\n",
    "\n",
    "specshow provides many helpers to automatically decorate the axes\n",
    "of your plot.  For the plot above, our x-axis corresponds to time,\n",
    "and our y-axis corresponds to linearly spaced frequencies produced\n",
    "by the discrete Fourier transform.\n",
    "We can tell specshow to decorate the axes accordingly:\n",
    "\n"
   ]
  },
  {
   "cell_type": "code",
   "execution_count": null,
   "metadata": {},
   "outputs": [],
   "source": [
    "fig, ax = plt.subplots()\n",
    "img = librosa.display.specshow(S_db, x_axis='time', y_axis='linear', ax=ax)\n",
    "ax.set(title='Now with labeled axes!')\n",
    "fig.colorbar(img, ax=ax, format=\"%+2.f dB\")"
   ]
  },
  {
   "cell_type": "markdown",
   "metadata": {},
   "source": [
    "This is much better already!  Note that we also added a format string\n",
    "to the colorbar, so readers know how to read the color scale.\n",
    "\n"
   ]
  },
  {
   "cell_type": "markdown",
   "metadata": {},
   "source": [
    "## Changing axis scales\n",
    "The linear frequency scale is sometimes helpful, but often it can\n",
    "difficult to read.  Alternatively, it is common to use a logarithmic\n",
    "frequency axis.  This has the benefit that every octave occupies\n",
    "a constant vertical extent.\n",
    "\n",
    "We can tell specshow to use log-scaled frequency axes just as above:\n",
    "\n"
   ]
  },
  {
   "cell_type": "code",
   "execution_count": null,
   "metadata": {},
   "outputs": [],
   "source": [
    "fig, ax = plt.subplots()\n",
    "img = librosa.display.specshow(S_db, x_axis='time', y_axis='log', ax=ax)\n",
    "ax.set(title='Using a logarithmic frequency axis')\n",
    "fig.colorbar(img, ax=ax, format=\"%+2.f dB\")"
   ]
  },
  {
   "cell_type": "markdown",
   "metadata": {},
   "source": [
    "## Changing the analysis parameters\n",
    "The default parameter settings used by librosa (e.g., `sr=22050`, `hop_length=512`,\n",
    "etc) may not be appropriate for every signal.\n",
    "If you change a parameter from its default value, e.g. when computing an STFT,\n",
    "you can pass that same parameter to `specshow`.\n",
    "This ensures that axis scales (e.g. time or frequency) are computed correctly.\n",
    "\n"
   ]
  },
  {
   "cell_type": "code",
   "execution_count": null,
   "metadata": {},
   "outputs": [],
   "source": [
    "fig, ax = plt.subplots()\n",
    "D_highres = librosa.stft(y, hop_length=256, n_fft=4096)\n",
    "S_db_hr = librosa.amplitude_to_db(np.abs(D_highres), ref=np.max)\n",
    "img = librosa.display.specshow(S_db_hr, hop_length=256, x_axis='time', y_axis='log',\n",
    "                               ax=ax)\n",
    "ax.set(title='Higher time and frequency resolution')\n",
    "fig.colorbar(img, ax=ax, format=\"%+2.f dB\")"
   ]
  },
  {
   "cell_type": "markdown",
   "metadata": {},
   "source": [
    "Note that only the parameters which are strictly necessary are supported by\n",
    "`specshow`.  For example, without the `hop_length`, we wouldn't know how to\n",
    "translate frame indices to time indices.\n",
    "\n",
    "A full list of the supported parameters is provided in the\n",
    "`librosa.display.specshow` documentation.\n",
    "\n"
   ]
  },
  {
   "cell_type": "markdown",
   "metadata": {},
   "source": [
    "## Other types of spectral data\n",
    "The examples above illustrate how to plot linear spectrograms,\n",
    "but librosa provides many kinds of spectral representations:\n",
    "Mel-scaled, constant-Q, variable-Q, chromagrams, tempograms, etc.\n",
    "\n",
    "specshow can plot these just as well.  For example, a Mel spectrogram\n",
    "can be displayed as follows:\n",
    "\n"
   ]
  },
  {
   "cell_type": "code",
   "execution_count": null,
   "metadata": {},
   "outputs": [],
   "source": [
    "fig, ax = plt.subplots()\n",
    "M = librosa.feature.melspectrogram(y=y, sr=sr)\n",
    "M_db = librosa.power_to_db(M, ref=np.max)\n",
    "img = librosa.display.specshow(M_db, y_axis='mel', x_axis='time', ax=ax)\n",
    "ax.set(title='Mel spectrogram display')\n",
    "fig.colorbar(img, ax=ax, format=\"%+2.f dB\")"
   ]
  },
  {
   "cell_type": "markdown",
   "metadata": {},
   "source": [
    "Constant-Q plots, and other logarithmically scaled frequency representations\n",
    "such as Variable-Q or `iirt` can be decorated using either the frequencies (Hz)\n",
    "or their note names in scientific pitch notation:\n",
    "\n"
   ]
  },
  {
   "cell_type": "code",
   "execution_count": null,
   "metadata": {},
   "outputs": [],
   "source": [
    "C = librosa.cqt(y=y, sr=sr)\n",
    "C_db = librosa.amplitude_to_db(np.abs(C), ref=np.max)\n",
    "\n",
    "fig, ax = plt.subplots()\n",
    "librosa.display.specshow(C_db, y_axis='cqt_hz', x_axis='time', ax=ax)\n",
    "ax.set(title='Frequency (Hz) axis decoration')\n",
    "\n",
    "fig, ax = plt.subplots()\n",
    "librosa.display.specshow(C_db, y_axis='cqt_note', x_axis='time', ax=ax)\n",
    "ax.set(title='Pitch axis decoration')"
   ]
  },
  {
   "cell_type": "markdown",
   "metadata": {},
   "source": [
    "In the latter case, the underlying data representation is still measured in\n",
    "Hz; only the tick labels are changed.\n",
    "\n"
   ]
  },
  {
   "cell_type": "markdown",
   "metadata": {},
   "source": [
    "Chroma representations don't have a fixed frequency axis, and instead aggregate\n",
    "information across all frequencies corresponding to a given pitch class.\n",
    "specshow can plot these too:\n",
    "\n"
   ]
  },
  {
   "cell_type": "code",
   "execution_count": null,
   "metadata": {},
   "outputs": [],
   "source": [
    "chroma = librosa.feature.chroma_cqt(y=y, sr=sr)\n",
    "fig, ax = plt.subplots()\n",
    "img = librosa.display.specshow(chroma, y_axis='chroma', x_axis='time', ax=ax)\n",
    "ax.set(title='Chromagram demonstration')\n",
    "fig.colorbar(img, ax=ax)"
   ]
  },
  {
   "cell_type": "markdown",
   "metadata": {},
   "source": [
    "If you also happen to know the key of the piece being analyzed, you can\n",
    "pass this to specshow and it will spell the notes properly:\n",
    "\n"
   ]
  },
  {
   "cell_type": "code",
   "execution_count": null,
   "metadata": {},
   "outputs": [],
   "source": [
    "fig, ax = plt.subplots()\n",
    "img = librosa.display.specshow(chroma, y_axis='chroma', x_axis='time',\n",
    "                               key='Eb:maj', ax=ax)\n",
    "ax.set(title='Chromagram explicitly in Eb:maj')\n",
    "fig.colorbar(img, ax=ax)"
   ]
  },
  {
   "cell_type": "markdown",
   "metadata": {},
   "source": [
    "This will also work for 'cqt_note' mode.\n",
    "\n"
   ]
  },
  {
   "cell_type": "markdown",
   "metadata": {},
   "source": [
    "## Indian notation systems\n",
    "\n"
   ]
  },
  {
   "cell_type": "code",
   "execution_count": null,
   "metadata": {},
   "outputs": [],
   "source": [
    "# The examples above use Western music notation to identify pitch classes, but we can\n",
    "# also decorate axes with either Hindustani or Carnatic svara classes.\n",
    "#\n",
    "# These are specified by using `y_axis='chroma_h'` or `'chroma_c'`, respectively.\n",
    "#\n",
    "# Just as with key identification in the chroma example above, you can specify the\n",
    "# thaat (Hindustani) or melakarta number or name (Carnatic) to notate the plot."
   ]
  },
  {
   "cell_type": "markdown",
   "metadata": {},
   "source": [
    "For example, the example above is in Eb:maj (or, more accurately, F:dorian),\n",
    "which we can also represent in Hindustani notation as Sa=5 (F) and 'kafi' thaat:\n",
    "\n"
   ]
  },
  {
   "cell_type": "code",
   "execution_count": null,
   "metadata": {},
   "outputs": [],
   "source": [
    "fig, ax = plt.subplots()\n",
    "img = librosa.display.specshow(chroma, y_axis='chroma_h', x_axis='time',\n",
    "                               Sa=5, thaat='kafi', ax=ax)\n",
    "ax.set(title='Chromagram with Hindustani notation')\n",
    "fig.colorbar(img, ax=ax)"
   ]
  },
  {
   "cell_type": "markdown",
   "metadata": {},
   "source": [
    "In Carnatic notation, we would use melakarta #22.\n",
    "Note: `thaat` is optional for Hindustani notation, but `mela` is required for\n",
    "Carnatic.\n",
    "\n"
   ]
  },
  {
   "cell_type": "code",
   "execution_count": null,
   "metadata": {},
   "outputs": [],
   "source": [
    "fig, ax = plt.subplots()\n",
    "img = librosa.display.specshow(chroma, y_axis='chroma_c', x_axis='time',\n",
    "                               Sa=5, mela=22, ax=ax)\n",
    "ax.set(title='Chromagram with Carnatic notation')\n",
    "fig.colorbar(img, ax=ax)"
   ]
  },
  {
   "cell_type": "markdown",
   "metadata": {},
   "source": [
    "These notation schemes can also be used in cqt plots by specifying\n",
    "`y_axis='cqt_svara'`.\n",
    "\n",
    "In this mode, `Sa` must be specified in Hz.  Carnatic notation is used\n",
    "if `mela` is provided, and Hindustani is used if not.\n",
    "\n",
    "Individual svara are only notated if the display range is sufficiently small,\n",
    "so we'll zoom into a single octave for this example.\n",
    "\n"
   ]
  },
  {
   "cell_type": "code",
   "execution_count": null,
   "metadata": {},
   "outputs": [],
   "source": [
    "Sa = librosa.note_to_hz('F4')\n",
    "fig, ax = plt.subplots()\n",
    "librosa.display.specshow(C_db, y_axis='cqt_svara', Sa=Sa, x_axis='time', ax=ax)\n",
    "ax.set(title='Hindustani decoration',\n",
    "       ylim=[Sa, 2*Sa])\n",
    "\n",
    "fig, ax = plt.subplots()\n",
    "librosa.display.specshow(C_db, y_axis='cqt_svara', Sa=Sa, mela=22, x_axis='time', ax=ax)\n",
    "ax.set(title='Carnatic decoration',\n",
    "       ylim=[Sa, 2*Sa])"
   ]
  },
  {
   "cell_type": "markdown",
   "metadata": {},
   "source": [
    "## Non-spectral data\n",
    "specshow can also be used for data that isn't exactly spectro-temporal.\n",
    "One common application is recurrence (self-similarity) plots, which\n",
    "are time-by-time, as illustrated below.\n",
    "\n"
   ]
  },
  {
   "cell_type": "code",
   "execution_count": null,
   "metadata": {},
   "outputs": [],
   "source": [
    "R = librosa.segment.recurrence_matrix(chroma, mode='affinity')\n",
    "fig, ax = plt.subplots()\n",
    "img = librosa.display.specshow(R, y_axis='time', x_axis='time', ax=ax)\n",
    "ax.set(title='Recurrence / self-similarity')\n",
    "fig.colorbar(img, ax=ax)"
   ]
  },
  {
   "cell_type": "markdown",
   "metadata": {},
   "source": [
    "In this example, notice that we used 'time' for both axis labels.\n",
    "In general, any of the supported modes can be used for either axis.\n",
    "For example, we could also plot the chroma covariance plot with\n",
    "chroma decorations on each axis:\n",
    "\n"
   ]
  },
  {
   "cell_type": "code",
   "execution_count": null,
   "metadata": {},
   "outputs": [],
   "source": [
    "ccov = np.cov(chroma)\n",
    "fig, ax = plt.subplots()\n",
    "img = librosa.display.specshow(ccov, y_axis='chroma', x_axis='chroma',\n",
    "                               key='Eb:maj', ax=ax)\n",
    "ax.set(title='Chroma covariance')\n",
    "fig.colorbar(img, ax=ax)"
   ]
  },
  {
   "cell_type": "markdown",
   "metadata": {},
   "source": [
    "Certain plots (e.g. covariance, self-similarity) are automatically\n",
    "squared by `specshow`. To override that, pass `auto_scale=False`.\n",
    "\n"
   ]
  },
  {
   "cell_type": "markdown",
   "metadata": {},
   "source": [
    "## Color maps\n",
    "You may have noticed that the color mappings for the images above\n",
    "were selected automatically by `specshow`.\n",
    "This is done by `librosa.display.cmap` according to the following heuristic:\n",
    "\n",
    "  - If the data is boolean, use black-and-white\n",
    "  - If the data is (mostly) positive or (mostly) negative, use a sequential\n",
    "    colormap\n",
    "  - If the data contains both positive and negative values, use a diverging\n",
    "    colormap.\n",
    "\n",
    "The default sequential colormap is 'magma', which is perceptually uniform and\n",
    "converts gracefully to grayscale.\n",
    "\n",
    "You can always override this automatic colormap selection by setting an\n",
    "explicit `cmap`:\n",
    "\n"
   ]
  },
  {
   "cell_type": "code",
   "execution_count": null,
   "metadata": {},
   "outputs": [],
   "source": [
    "fig, ax = plt.subplots()\n",
    "img = librosa.display.specshow(S_db, cmap='gray_r', y_axis='log', x_axis='time', ax=ax)\n",
    "ax.set(title='Inverted grayscale')\n",
    "fig.colorbar(img, ax=ax, format=\"%+2.f dB\")"
   ]
  },
  {
   "cell_type": "markdown",
   "metadata": {},
   "source": [
    "`specshow` uses `matplotlib.pyplot.pcolormesh` to generate the underlying image.\n",
    "Any parameters to `pcolormesh` can be passed through from `specshow`, for example,\n",
    "to set explicit bounds on the minimum and maximum ranges for colors.\n",
    "This can be helpful when centering divergent colormaps around 0 (or some other\n",
    "reference point).\n",
    "\n"
   ]
  },
  {
   "cell_type": "code",
   "execution_count": null,
   "metadata": {},
   "outputs": [],
   "source": [
    "max_var = np.max(np.abs(ccov))\n",
    "fig, ax = plt.subplots()\n",
    "img = librosa.display.specshow(ccov, vmin=-max_var, vmax=max_var,\n",
    "                               y_axis='chroma', x_axis='chroma',\n",
    "                               key='Eb:maj', ax=ax)\n",
    "ax.set(title='Chroma covariance')\n",
    "fig.colorbar(img, ax=ax)"
   ]
  },
  {
   "cell_type": "markdown",
   "metadata": {},
   "source": [
    "## Multiple plots\n",
    "Often, we'll want to show multiple synchronized features simultaneously.\n",
    "This can be done using matplotlib's `subplot` mechanism and sharing axes.\n",
    "There are many examples of this throughout the librosa documentation, but\n",
    "here we'll go through it step by step.\n",
    "\n"
   ]
  },
  {
   "cell_type": "code",
   "execution_count": null,
   "metadata": {},
   "outputs": [],
   "source": [
    "# Construct a subplot grid with 3 rows and 1 column, sharing the x-axis)\n",
    "fig, ax = plt.subplots(nrows=3, ncols=1, sharex=True)\n",
    "\n",
    "# On the first subplot, show the original spectrogram\n",
    "img1 = librosa.display.specshow(S_db, x_axis='time', y_axis='log', ax=ax[0])\n",
    "ax[0].set(title='STFT (log scale)')\n",
    "\n",
    "# On the second subplot, show the mel spectrogram\n",
    "img2 = librosa.display.specshow(M_db, x_axis='time', y_axis='mel', ax=ax[1])\n",
    "ax[1].set(title='Mel')\n",
    "\n",
    "# On the third subplot, show the chroma features\n",
    "img3 = librosa.display.specshow(chroma, x_axis='time', y_axis='chroma', \n",
    "                                key='Eb:maj', ax=ax[2])\n",
    "ax[2].set(title='Chroma')\n",
    "\n",
    "# To eliminate redundant axis labels, we'll use \"label_outer\" on all subplots:\n",
    "for ax_i in ax:\n",
    "    ax_i.label_outer()\n",
    "\n",
    "# And we can share colorbars:\n",
    "fig.colorbar(img1, ax=[ax[0], ax[1]])\n",
    "\n",
    "# Or have individual colorbars:\n",
    "fig.colorbar(img3, ax=[ax[2]])\n",
    "\n",
    "# We can then even do fancy things like zoom into a particular time and frequency\n",
    "# region.  Since the axes are shared, this will apply to all three subplots at once.\n",
    "ax[0].set(xlim=[1, 3])  # Zoom to seconds 1-3"
   ]
  },
  {
   "cell_type": "markdown",
   "metadata": {},
   "source": [
    "## Non-uniform axes\n",
    "All of the examples so far have used either uniformly, linearly, or geometrically\n",
    "spaced axes.  But sometimes, we have non-uniform sampling of data, and we'd like\n",
    "to plot it in natural coordinates.\n",
    "\n",
    "One example of this is when using beat-synchronous features in the common case\n",
    "where the tempo is not exactly fixed.  To demonstrate this, we'll use a longer\n",
    "example clip.\n",
    "\n",
    "To specify non-uniform axis sampling, you will need to provide the `x_coords`\n",
    "(or `y_coords`) array indicating the position of each sample, as demonstrated\n",
    "below.\n",
    "\n"
   ]
  },
  {
   "cell_type": "code",
   "execution_count": null,
   "metadata": {},
   "outputs": [],
   "source": [
    "y, sr = librosa.load(librosa.ex('nutcracker'))\n",
    "chroma = librosa.feature.chroma_cqt(y=y, sr=sr)\n",
    "tempo, beats = librosa.beat.beat_track(y=y, sr=sr)\n",
    "\n",
    "# beats contains the frame indices of each detected beat\n",
    "# for synchronization and visualization, we'll need to expand this\n",
    "# to cover the limits of the data.  This can be done as follows:\n",
    "beats = librosa.util.fix_frames(beats, x_min=0)\n",
    "\n",
    "# Now beat-synchronize the chroma features\n",
    "chroma_sync = librosa.util.sync(chroma, beats, aggregate=np.median)\n",
    "\n",
    "# For visualization, we can convert to time (in seconds)\n",
    "beat_times = librosa.frames_to_time(beats)\n",
    "\n",
    "# We'll plot the synchronized and unsynchronized features next\n",
    "# to each other\n",
    "\n",
    "fig, ax = plt.subplots(nrows=2, sharex=True)\n",
    "img = librosa.display.specshow(chroma, y_axis='chroma', x_axis='time', ax=ax[0],\n",
    "                               key='Eb:maj')\n",
    "ax[0].set(title='Uniform time sampling')\n",
    "ax[0].label_outer()\n",
    "\n",
    "librosa.display.specshow(chroma_sync, y_axis='chroma', x_axis='time',\n",
    "                         x_coords=beat_times, ax=ax[1], key='Eb:maj')\n",
    "ax[1].set(title='Beat-synchronous sampling')\n",
    "fig.colorbar(img, ax=ax)\n",
    "\n",
    "# For clarity, we'll zoom in on a 15-second patch\n",
    "ax[1].set(xlim=[10, 25])"
   ]
  },
  {
   "cell_type": "markdown",
   "metadata": {},
   "source": [
    "## Conclusion\n",
    "This series of examples demonstrates most of the functionality of\n",
    "`librosa.display.specshow`, but it does not exhaustively show\n",
    "every option, e.g., for axis decoration.\n",
    "Interested readers should look through the rest of the API\n",
    "documentation to see how these other options can be used\n",
    "effectively.\n",
    "\n"
   ]
  }
 ],
 "metadata": {
  "kernelspec": {
   "display_name": "Python 3 (ipykernel)",
   "language": "python",
   "name": "python3"
  },
  "language_info": {
   "codemirror_mode": {
    "name": "ipython",
    "version": 3
   },
   "file_extension": ".py",
   "mimetype": "text/x-python",
   "name": "python",
   "nbconvert_exporter": "python",
   "pygments_lexer": "ipython3",
   "version": "3.9.16"
  },
  "toc": {
   "base_numbering": 1,
   "nav_menu": {},
   "number_sections": true,
   "sideBar": true,
   "skip_h1_title": false,
   "title_cell": "Table of Contents",
   "title_sidebar": "Contents",
   "toc_cell": false,
   "toc_position": {},
   "toc_section_display": true,
   "toc_window_display": false
  },
  "varInspector": {
   "cols": {
    "lenName": 16,
    "lenType": 16,
    "lenVar": 40
   },
   "kernels_config": {
    "python": {
     "delete_cmd_postfix": "",
     "delete_cmd_prefix": "del ",
     "library": "var_list.py",
     "varRefreshCmd": "print(var_dic_list())"
    },
    "r": {
     "delete_cmd_postfix": ") ",
     "delete_cmd_prefix": "rm(",
     "library": "var_list.r",
     "varRefreshCmd": "cat(var_dic_list()) "
    }
   },
   "types_to_exclude": [
    "module",
    "function",
    "builtin_function_or_method",
    "instance",
    "_Feature"
   ],
   "window_display": false
  }
 },
 "nbformat": 4,
 "nbformat_minor": 1
}
